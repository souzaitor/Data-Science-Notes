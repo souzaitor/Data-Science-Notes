{
 "cells": [
  {
   "cell_type": "code",
   "execution_count": 86,
   "id": "89f6d337-18df-4e1f-bf94-1696e38cf067",
   "metadata": {},
   "outputs": [
    {
     "name": "stdout",
     "output_type": "stream",
     "text": [
      "GitHub URL:\n",
      "\n",
      " https://render.githubusercontent.com/render/math?math=%24G_O(s)%3D%5Cfrac%7BK_P(%5Ctau_iS%2B1%2B%5Ctau_i%5Ctau_ds%5E2))G_P(s)%7D%7B%5Ctau_is%7D%24 \n",
      "\n",
      "HTML result:\n",
      "\n",
      " ![](https://render.githubusercontent.com/render/math?math=%24G_O(s)%3D%5Cfrac%7BK_P(%5Ctau_iS%2B1%2B%5Ctau_i%5Ctau_ds%5E2))G_P(s)%7D%7B%5Ctau_is%7D%24)\n"
     ]
    }
   ],
   "source": [
    "import urllib\n",
    "\n",
    "# Write your LaTeX code here.\n",
    "string = \\\n",
    "r\"\"\"\n",
    "$G_O(s)=\\frac{K_P(\\tau_iS+1+\\tau_i\\tau_ds^2))G_P(s)}{\\tau_is}$\n",
    "\"\"\"[1:-1] # Delete initial and final \\n line jumps.\n",
    "\n",
    "encoded_string = urllib.parse.quote(str(string).encode(\"utf-8\"), safe=\"~()*!.\\\"\")\n",
    "github_url = \"https://render.githubusercontent.com/render/math?math=\" + encoded_string\n",
    "html_result = '![](' + github_url + ')'\n",
    "\n",
    "print(\"GitHub URL:\\n\\n\", github_url, \"\\n\\nHTML result:\\n\\n\", html_result)"
   ]
  },
  {
   "cell_type": "code",
   "execution_count": null,
   "id": "dc990c24-5778-45b9-ab88-e8ffa2c2bb54",
   "metadata": {},
   "outputs": [],
   "source": []
  }
 ],
 "metadata": {
  "kernelspec": {
   "display_name": "Python 3 (ipykernel)",
   "language": "python",
   "name": "python3"
  },
  "language_info": {
   "codemirror_mode": {
    "name": "ipython",
    "version": 3
   },
   "file_extension": ".py",
   "mimetype": "text/x-python",
   "name": "python",
   "nbconvert_exporter": "python",
   "pygments_lexer": "ipython3",
   "version": "3.9.6"
  }
 },
 "nbformat": 4,
 "nbformat_minor": 5
}
