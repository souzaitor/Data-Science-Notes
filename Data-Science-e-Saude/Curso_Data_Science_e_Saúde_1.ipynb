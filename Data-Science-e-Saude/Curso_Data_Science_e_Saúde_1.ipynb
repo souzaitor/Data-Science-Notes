{
 "cells": [
  {
   "cell_type": "markdown",
   "metadata": {},
   "source": [
    "# 📊 Curso Data Science e Saúde"
   ]
  },
  {
   "cell_type": "markdown",
   "metadata": {},
   "source": [
    "## 💾 Dataset"
   ]
  },
  {
   "cell_type": "markdown",
   "metadata": {},
   "source": [
    "Dados sobre COVID-19 gereneciandos pela Johns Hopkins University,\n",
    "link para a documentação do dataset: https://github.com/CSSEGISandData/COVID-19/tree/master/csse_covid_19_data"
   ]
  },
  {
   "cell_type": "markdown",
   "metadata": {},
   "source": [
    "## ⬇️ Bibliotecas"
   ]
  },
  {
   "cell_type": "code",
   "execution_count": 131,
   "metadata": {},
   "outputs": [],
   "source": [
    "import pandas as pd\n",
    "import matplotlib.pyplot as plt\n",
    "import seaborn as sns\n",
    "import warnings\n",
    "warnings.filterwarnings('ignore')"
   ]
  },
  {
   "cell_type": "markdown",
   "metadata": {},
   "source": [
    "## ⬇️ Leitura do Conjunto de Dados"
   ]
  },
  {
   "cell_type": "code",
   "execution_count": 17,
   "metadata": {
    "colab": {
     "base_uri": "https://localhost:8080/",
     "height": 215
    },
    "colab_type": "code",
    "id": "qatscdizf92Y",
    "outputId": "a6902dfa-7aae-434c-ce80-d5cfe89c5d71"
   },
   "outputs": [
    {
     "data": {
      "text/html": [
       "<div>\n",
       "<style scoped>\n",
       "    .dataframe tbody tr th:only-of-type {\n",
       "        vertical-align: middle;\n",
       "    }\n",
       "\n",
       "    .dataframe tbody tr th {\n",
       "        vertical-align: top;\n",
       "    }\n",
       "\n",
       "    .dataframe thead th {\n",
       "        text-align: right;\n",
       "    }\n",
       "</style>\n",
       "<table border=\"1\" class=\"dataframe\">\n",
       "  <thead>\n",
       "    <tr style=\"text-align: right;\">\n",
       "      <th></th>\n",
       "      <th>Province/State</th>\n",
       "      <th>Country/Region</th>\n",
       "      <th>Lat</th>\n",
       "      <th>Long</th>\n",
       "      <th>1/22/20</th>\n",
       "      <th>1/23/20</th>\n",
       "      <th>1/24/20</th>\n",
       "      <th>1/25/20</th>\n",
       "      <th>1/26/20</th>\n",
       "      <th>1/27/20</th>\n",
       "      <th>...</th>\n",
       "      <th>12/26/21</th>\n",
       "      <th>12/27/21</th>\n",
       "      <th>12/28/21</th>\n",
       "      <th>12/29/21</th>\n",
       "      <th>12/30/21</th>\n",
       "      <th>12/31/21</th>\n",
       "      <th>1/1/22</th>\n",
       "      <th>1/2/22</th>\n",
       "      <th>1/3/22</th>\n",
       "      <th>1/4/22</th>\n",
       "    </tr>\n",
       "  </thead>\n",
       "  <tbody>\n",
       "    <tr>\n",
       "      <th>0</th>\n",
       "      <td>NaN</td>\n",
       "      <td>Afghanistan</td>\n",
       "      <td>33.93911</td>\n",
       "      <td>67.709953</td>\n",
       "      <td>0</td>\n",
       "      <td>0</td>\n",
       "      <td>0</td>\n",
       "      <td>0</td>\n",
       "      <td>0</td>\n",
       "      <td>0</td>\n",
       "      <td>...</td>\n",
       "      <td>157951</td>\n",
       "      <td>157967</td>\n",
       "      <td>157998</td>\n",
       "      <td>158037</td>\n",
       "      <td>158056</td>\n",
       "      <td>158084</td>\n",
       "      <td>158107</td>\n",
       "      <td>158189</td>\n",
       "      <td>158183</td>\n",
       "      <td>158205</td>\n",
       "    </tr>\n",
       "    <tr>\n",
       "      <th>1</th>\n",
       "      <td>NaN</td>\n",
       "      <td>Albania</td>\n",
       "      <td>41.15330</td>\n",
       "      <td>20.168300</td>\n",
       "      <td>0</td>\n",
       "      <td>0</td>\n",
       "      <td>0</td>\n",
       "      <td>0</td>\n",
       "      <td>0</td>\n",
       "      <td>0</td>\n",
       "      <td>...</td>\n",
       "      <td>207709</td>\n",
       "      <td>207709</td>\n",
       "      <td>208352</td>\n",
       "      <td>208899</td>\n",
       "      <td>208899</td>\n",
       "      <td>210224</td>\n",
       "      <td>210224</td>\n",
       "      <td>210885</td>\n",
       "      <td>210885</td>\n",
       "      <td>212021</td>\n",
       "    </tr>\n",
       "    <tr>\n",
       "      <th>2</th>\n",
       "      <td>NaN</td>\n",
       "      <td>Algeria</td>\n",
       "      <td>28.03390</td>\n",
       "      <td>1.659600</td>\n",
       "      <td>0</td>\n",
       "      <td>0</td>\n",
       "      <td>0</td>\n",
       "      <td>0</td>\n",
       "      <td>0</td>\n",
       "      <td>0</td>\n",
       "      <td>...</td>\n",
       "      <td>216637</td>\n",
       "      <td>216930</td>\n",
       "      <td>217265</td>\n",
       "      <td>217647</td>\n",
       "      <td>218037</td>\n",
       "      <td>218432</td>\n",
       "      <td>218818</td>\n",
       "      <td>219159</td>\n",
       "      <td>219532</td>\n",
       "      <td>219953</td>\n",
       "    </tr>\n",
       "    <tr>\n",
       "      <th>3</th>\n",
       "      <td>NaN</td>\n",
       "      <td>Andorra</td>\n",
       "      <td>42.50630</td>\n",
       "      <td>1.521800</td>\n",
       "      <td>0</td>\n",
       "      <td>0</td>\n",
       "      <td>0</td>\n",
       "      <td>0</td>\n",
       "      <td>0</td>\n",
       "      <td>0</td>\n",
       "      <td>...</td>\n",
       "      <td>21730</td>\n",
       "      <td>22332</td>\n",
       "      <td>22540</td>\n",
       "      <td>22823</td>\n",
       "      <td>23122</td>\n",
       "      <td>23740</td>\n",
       "      <td>23740</td>\n",
       "      <td>23740</td>\n",
       "      <td>24502</td>\n",
       "      <td>24802</td>\n",
       "    </tr>\n",
       "    <tr>\n",
       "      <th>4</th>\n",
       "      <td>NaN</td>\n",
       "      <td>Angola</td>\n",
       "      <td>-11.20270</td>\n",
       "      <td>17.873900</td>\n",
       "      <td>0</td>\n",
       "      <td>0</td>\n",
       "      <td>0</td>\n",
       "      <td>0</td>\n",
       "      <td>0</td>\n",
       "      <td>0</td>\n",
       "      <td>...</td>\n",
       "      <td>71752</td>\n",
       "      <td>71752</td>\n",
       "      <td>76787</td>\n",
       "      <td>78475</td>\n",
       "      <td>79871</td>\n",
       "      <td>81593</td>\n",
       "      <td>82398</td>\n",
       "      <td>82920</td>\n",
       "      <td>83764</td>\n",
       "      <td>84666</td>\n",
       "    </tr>\n",
       "  </tbody>\n",
       "</table>\n",
       "<p>5 rows × 718 columns</p>\n",
       "</div>"
      ],
      "text/plain": [
       "  Province/State Country/Region       Lat       Long  1/22/20  1/23/20  \\\n",
       "0            NaN    Afghanistan  33.93911  67.709953        0        0   \n",
       "1            NaN        Albania  41.15330  20.168300        0        0   \n",
       "2            NaN        Algeria  28.03390   1.659600        0        0   \n",
       "3            NaN        Andorra  42.50630   1.521800        0        0   \n",
       "4            NaN         Angola -11.20270  17.873900        0        0   \n",
       "\n",
       "   1/24/20  1/25/20  1/26/20  1/27/20  ...  12/26/21  12/27/21  12/28/21  \\\n",
       "0        0        0        0        0  ...    157951    157967    157998   \n",
       "1        0        0        0        0  ...    207709    207709    208352   \n",
       "2        0        0        0        0  ...    216637    216930    217265   \n",
       "3        0        0        0        0  ...     21730     22332     22540   \n",
       "4        0        0        0        0  ...     71752     71752     76787   \n",
       "\n",
       "   12/29/21  12/30/21  12/31/21  1/1/22  1/2/22  1/3/22  1/4/22  \n",
       "0    158037    158056    158084  158107  158189  158183  158205  \n",
       "1    208899    208899    210224  210224  210885  210885  212021  \n",
       "2    217647    218037    218432  218818  219159  219532  219953  \n",
       "3     22823     23122     23740   23740   23740   24502   24802  \n",
       "4     78475     79871     81593   82398   82920   83764   84666  \n",
       "\n",
       "[5 rows x 718 columns]"
      ]
     },
     "execution_count": 17,
     "metadata": {},
     "output_type": "execute_result"
    }
   ],
   "source": [
    "confirmed = pd.read_csv(\"https://raw.githubusercontent.com/CSSEGISandData/COVID-19/master/csse_covid_19_data/csse_covid_19_time_series/time_series_covid19_confirmed_global.csv\")\n",
    "confirmed.head()"
   ]
  },
  {
   "cell_type": "markdown",
   "metadata": {},
   "source": [
    "## 📈 Estudando o Conjunto de Dados"
   ]
  },
  {
   "cell_type": "code",
   "execution_count": 18,
   "metadata": {
    "colab": {
     "base_uri": "https://localhost:8080/",
     "height": 34
    },
    "colab_type": "code",
    "id": "58v7MDJPgUfw",
    "outputId": "607e1847-e609-4597-8a54-954dbcaeaca6"
   },
   "outputs": [
    {
     "name": "stdout",
     "output_type": "stream",
     "text": [
      "O dataset possui 280 linhas\n",
      "O dataset possui 718 colunas\n"
     ]
    }
   ],
   "source": [
    "# Verifica as dimensões do dataset\n",
    "print(\"O dataset possui\", confirmed.shape[0], \"linhas\")\n",
    "print(\"O dataset possui\", confirmed.shape[1], \"colunas\")"
   ]
  },
  {
   "cell_type": "code",
   "execution_count": 19,
   "metadata": {
    "colab": {
     "base_uri": "https://localhost:8080/",
     "height": 269
    },
    "colab_type": "code",
    "id": "d75ezwHnhC-d",
    "outputId": "5fbf19ad-ef69-42bb-ae76-3b26f259a606"
   },
   "outputs": [
    {
     "data": {
      "text/plain": [
       "array(['Afghanistan', 'Albania', 'Algeria', 'Andorra', 'Angola',\n",
       "       'Antigua and Barbuda', 'Argentina', 'Armenia', 'Australia',\n",
       "       'Austria', 'Azerbaijan', 'Bahamas', 'Bahrain', 'Bangladesh',\n",
       "       'Barbados', 'Belarus', 'Belgium', 'Belize', 'Benin', 'Bhutan',\n",
       "       'Bolivia', 'Bosnia and Herzegovina', 'Botswana', 'Brazil',\n",
       "       'Brunei', 'Bulgaria', 'Burkina Faso', 'Burma', 'Burundi',\n",
       "       'Cabo Verde', 'Cambodia', 'Cameroon', 'Canada',\n",
       "       'Central African Republic', 'Chad', 'Chile', 'China', 'Colombia',\n",
       "       'Comoros', 'Congo (Brazzaville)', 'Congo (Kinshasa)', 'Costa Rica',\n",
       "       \"Cote d'Ivoire\", 'Croatia', 'Cuba', 'Cyprus', 'Czechia', 'Denmark',\n",
       "       'Diamond Princess', 'Djibouti', 'Dominica', 'Dominican Republic',\n",
       "       'Ecuador', 'Egypt', 'El Salvador', 'Equatorial Guinea', 'Eritrea',\n",
       "       'Estonia', 'Eswatini', 'Ethiopia', 'Fiji', 'Finland', 'France',\n",
       "       'Gabon', 'Gambia', 'Georgia', 'Germany', 'Ghana', 'Greece',\n",
       "       'Grenada', 'Guatemala', 'Guinea', 'Guinea-Bissau', 'Guyana',\n",
       "       'Haiti', 'Holy See', 'Honduras', 'Hungary', 'Iceland', 'India',\n",
       "       'Indonesia', 'Iran', 'Iraq', 'Ireland', 'Israel', 'Italy',\n",
       "       'Jamaica', 'Japan', 'Jordan', 'Kazakhstan', 'Kenya', 'Kiribati',\n",
       "       'Korea, South', 'Kosovo', 'Kuwait', 'Kyrgyzstan', 'Laos', 'Latvia',\n",
       "       'Lebanon', 'Lesotho', 'Liberia', 'Libya', 'Liechtenstein',\n",
       "       'Lithuania', 'Luxembourg', 'MS Zaandam', 'Madagascar', 'Malawi',\n",
       "       'Malaysia', 'Maldives', 'Mali', 'Malta', 'Marshall Islands',\n",
       "       'Mauritania', 'Mauritius', 'Mexico', 'Micronesia', 'Moldova',\n",
       "       'Monaco', 'Mongolia', 'Montenegro', 'Morocco', 'Mozambique',\n",
       "       'Namibia', 'Nepal', 'Netherlands', 'New Zealand', 'Nicaragua',\n",
       "       'Niger', 'Nigeria', 'North Macedonia', 'Norway', 'Oman',\n",
       "       'Pakistan', 'Palau', 'Panama', 'Papua New Guinea', 'Paraguay',\n",
       "       'Peru', 'Philippines', 'Poland', 'Portugal', 'Qatar', 'Romania',\n",
       "       'Russia', 'Rwanda', 'Saint Kitts and Nevis', 'Saint Lucia',\n",
       "       'Saint Vincent and the Grenadines', 'Samoa', 'San Marino',\n",
       "       'Sao Tome and Principe', 'Saudi Arabia', 'Senegal', 'Serbia',\n",
       "       'Seychelles', 'Sierra Leone', 'Singapore', 'Slovakia', 'Slovenia',\n",
       "       'Solomon Islands', 'Somalia', 'South Africa', 'South Sudan',\n",
       "       'Spain', 'Sri Lanka', 'Sudan', 'Summer Olympics 2020', 'Suriname',\n",
       "       'Sweden', 'Switzerland', 'Syria', 'Taiwan*', 'Tajikistan',\n",
       "       'Tanzania', 'Thailand', 'Timor-Leste', 'Togo', 'Tonga',\n",
       "       'Trinidad and Tobago', 'Tunisia', 'Turkey', 'US', 'Uganda',\n",
       "       'Ukraine', 'United Arab Emirates', 'United Kingdom', 'Uruguay',\n",
       "       'Uzbekistan', 'Vanuatu', 'Venezuela', 'Vietnam',\n",
       "       'West Bank and Gaza', 'Yemen', 'Zambia', 'Zimbabwe'], dtype=object)"
      ]
     },
     "execution_count": 19,
     "metadata": {},
     "output_type": "execute_result"
    }
   ],
   "source": [
    "# Quais os países afetados nessa data\n",
    "confirmed[\"Country/Region\"].unique()"
   ]
  },
  {
   "cell_type": "code",
   "execution_count": 16,
   "metadata": {
    "colab": {
     "base_uri": "https://localhost:8080/",
     "height": 386
    },
    "colab_type": "code",
    "id": "YkFdUtqQhbZV",
    "outputId": "422eb40c-f9a2-471f-e36a-e355f9324cc0"
   },
   "outputs": [
    {
     "data": {
      "text/plain": [
       "array([nan, 'Australian Capital Territory', 'New South Wales',\n",
       "       'Northern Territory', 'Queensland', 'South Australia', 'Tasmania',\n",
       "       'Victoria', 'Western Australia', 'Alberta', 'British Columbia',\n",
       "       'Diamond Princess', 'Grand Princess', 'Manitoba', 'New Brunswick',\n",
       "       'Newfoundland and Labrador', 'Northwest Territories',\n",
       "       'Nova Scotia', 'Nunavut', 'Ontario', 'Prince Edward Island',\n",
       "       'Quebec', 'Repatriated Travellers', 'Saskatchewan', 'Yukon',\n",
       "       'Anhui', 'Beijing', 'Chongqing', 'Fujian', 'Gansu', 'Guangdong',\n",
       "       'Guangxi', 'Guizhou', 'Hainan', 'Hebei', 'Heilongjiang', 'Henan',\n",
       "       'Hong Kong', 'Hubei', 'Hunan', 'Inner Mongolia', 'Jiangsu',\n",
       "       'Jiangxi', 'Jilin', 'Liaoning', 'Macau', 'Ningxia', 'Qinghai',\n",
       "       'Shaanxi', 'Shandong', 'Shanghai', 'Shanxi', 'Sichuan', 'Tianjin',\n",
       "       'Tibet', 'Unknown', 'Xinjiang', 'Yunnan', 'Zhejiang',\n",
       "       'Faroe Islands', 'Greenland', 'French Guiana', 'French Polynesia',\n",
       "       'Guadeloupe', 'Martinique', 'Mayotte', 'New Caledonia', 'Reunion',\n",
       "       'Saint Barthelemy', 'Saint Pierre and Miquelon', 'St Martin',\n",
       "       'Wallis and Futuna', 'Aruba', 'Bonaire, Sint Eustatius and Saba',\n",
       "       'Curacao', 'Sint Maarten', 'Cook Islands', 'Anguilla', 'Bermuda',\n",
       "       'British Virgin Islands', 'Cayman Islands', 'Channel Islands',\n",
       "       'Falkland Islands (Malvinas)', 'Gibraltar', 'Isle of Man',\n",
       "       'Montserrat', 'Saint Helena, Ascension and Tristan da Cunha',\n",
       "       'Turks and Caicos Islands'], dtype=object)"
      ]
     },
     "execution_count": 16,
     "metadata": {},
     "output_type": "execute_result"
    }
   ],
   "source": [
    "# Quais as províncias/estados afetados nessa data\n",
    "confirmed[\"Province/State\"].unique()"
   ]
  },
  {
   "cell_type": "code",
   "execution_count": 22,
   "metadata": {
    "colab": {
     "base_uri": "https://localhost:8080/",
     "height": 659
    },
    "colab_type": "code",
    "id": "4vy3KqidhfUL",
    "outputId": "37be8089-08ee-4a15-c8fb-c2d62643f800"
   },
   "outputs": [
    {
     "data": {
      "text/html": [
       "<div>\n",
       "<style scoped>\n",
       "    .dataframe tbody tr th:only-of-type {\n",
       "        vertical-align: middle;\n",
       "    }\n",
       "\n",
       "    .dataframe tbody tr th {\n",
       "        vertical-align: top;\n",
       "    }\n",
       "\n",
       "    .dataframe thead th {\n",
       "        text-align: right;\n",
       "    }\n",
       "</style>\n",
       "<table border=\"1\" class=\"dataframe\">\n",
       "  <thead>\n",
       "    <tr style=\"text-align: right;\">\n",
       "      <th></th>\n",
       "      <th>Province/State</th>\n",
       "      <th>Country/Region</th>\n",
       "      <th>Lat</th>\n",
       "      <th>Long</th>\n",
       "      <th>1/22/20</th>\n",
       "      <th>1/23/20</th>\n",
       "      <th>1/24/20</th>\n",
       "      <th>1/25/20</th>\n",
       "      <th>1/26/20</th>\n",
       "      <th>1/27/20</th>\n",
       "      <th>...</th>\n",
       "      <th>12/26/21</th>\n",
       "      <th>12/27/21</th>\n",
       "      <th>12/28/21</th>\n",
       "      <th>12/29/21</th>\n",
       "      <th>12/30/21</th>\n",
       "      <th>12/31/21</th>\n",
       "      <th>1/1/22</th>\n",
       "      <th>1/2/22</th>\n",
       "      <th>1/3/22</th>\n",
       "      <th>1/4/22</th>\n",
       "    </tr>\n",
       "  </thead>\n",
       "  <tbody>\n",
       "    <tr>\n",
       "      <th>183</th>\n",
       "      <td>NaN</td>\n",
       "      <td>Mexico</td>\n",
       "      <td>23.634500</td>\n",
       "      <td>-102.552800</td>\n",
       "      <td>0</td>\n",
       "      <td>0</td>\n",
       "      <td>0</td>\n",
       "      <td>0</td>\n",
       "      <td>0</td>\n",
       "      <td>0</td>\n",
       "      <td>...</td>\n",
       "      <td>3950200</td>\n",
       "      <td>3951003</td>\n",
       "      <td>3951946</td>\n",
       "      <td>3956372</td>\n",
       "      <td>3961662</td>\n",
       "      <td>3979723</td>\n",
       "      <td>3988916</td>\n",
       "      <td>3990587</td>\n",
       "      <td>3993464</td>\n",
       "      <td>4008648</td>\n",
       "    </tr>\n",
       "    <tr>\n",
       "      <th>234</th>\n",
       "      <td>NaN</td>\n",
       "      <td>Somalia</td>\n",
       "      <td>5.152149</td>\n",
       "      <td>46.199616</td>\n",
       "      <td>0</td>\n",
       "      <td>0</td>\n",
       "      <td>0</td>\n",
       "      <td>0</td>\n",
       "      <td>0</td>\n",
       "      <td>0</td>\n",
       "      <td>...</td>\n",
       "      <td>23532</td>\n",
       "      <td>23532</td>\n",
       "      <td>23532</td>\n",
       "      <td>23532</td>\n",
       "      <td>23532</td>\n",
       "      <td>23532</td>\n",
       "      <td>23532</td>\n",
       "      <td>23532</td>\n",
       "      <td>23532</td>\n",
       "      <td>23532</td>\n",
       "    </tr>\n",
       "    <tr>\n",
       "      <th>119</th>\n",
       "      <td>French Guiana</td>\n",
       "      <td>France</td>\n",
       "      <td>3.933900</td>\n",
       "      <td>-53.125800</td>\n",
       "      <td>0</td>\n",
       "      <td>0</td>\n",
       "      <td>0</td>\n",
       "      <td>0</td>\n",
       "      <td>0</td>\n",
       "      <td>0</td>\n",
       "      <td>...</td>\n",
       "      <td>47012</td>\n",
       "      <td>47229</td>\n",
       "      <td>47332</td>\n",
       "      <td>47631</td>\n",
       "      <td>47631</td>\n",
       "      <td>47631</td>\n",
       "      <td>47631</td>\n",
       "      <td>47631</td>\n",
       "      <td>47631</td>\n",
       "      <td>49771</td>\n",
       "    </tr>\n",
       "    <tr>\n",
       "      <th>263</th>\n",
       "      <td>Channel Islands</td>\n",
       "      <td>United Kingdom</td>\n",
       "      <td>49.372300</td>\n",
       "      <td>-2.364400</td>\n",
       "      <td>0</td>\n",
       "      <td>0</td>\n",
       "      <td>0</td>\n",
       "      <td>0</td>\n",
       "      <td>0</td>\n",
       "      <td>0</td>\n",
       "      <td>...</td>\n",
       "      <td>23627</td>\n",
       "      <td>23627</td>\n",
       "      <td>23627</td>\n",
       "      <td>25998</td>\n",
       "      <td>26799</td>\n",
       "      <td>27507</td>\n",
       "      <td>27507</td>\n",
       "      <td>27507</td>\n",
       "      <td>27507</td>\n",
       "      <td>30024</td>\n",
       "    </tr>\n",
       "    <tr>\n",
       "      <th>47</th>\n",
       "      <td>Nova Scotia</td>\n",
       "      <td>Canada</td>\n",
       "      <td>44.682000</td>\n",
       "      <td>-63.744300</td>\n",
       "      <td>0</td>\n",
       "      <td>0</td>\n",
       "      <td>0</td>\n",
       "      <td>0</td>\n",
       "      <td>0</td>\n",
       "      <td>0</td>\n",
       "      <td>...</td>\n",
       "      <td>14888</td>\n",
       "      <td>15469</td>\n",
       "      <td>16030</td>\n",
       "      <td>16616</td>\n",
       "      <td>17127</td>\n",
       "      <td>17745</td>\n",
       "      <td>18454</td>\n",
       "      <td>19638</td>\n",
       "      <td>20658</td>\n",
       "      <td>21678</td>\n",
       "    </tr>\n",
       "    <tr>\n",
       "      <th>94</th>\n",
       "      <td>NaN</td>\n",
       "      <td>Congo (Brazzaville)</td>\n",
       "      <td>-0.228000</td>\n",
       "      <td>15.827700</td>\n",
       "      <td>0</td>\n",
       "      <td>0</td>\n",
       "      <td>0</td>\n",
       "      <td>0</td>\n",
       "      <td>0</td>\n",
       "      <td>0</td>\n",
       "      <td>...</td>\n",
       "      <td>19490</td>\n",
       "      <td>20089</td>\n",
       "      <td>20089</td>\n",
       "      <td>20089</td>\n",
       "      <td>20089</td>\n",
       "      <td>20089</td>\n",
       "      <td>20089</td>\n",
       "      <td>20089</td>\n",
       "      <td>21277</td>\n",
       "      <td>21277</td>\n",
       "    </tr>\n",
       "    <tr>\n",
       "      <th>93</th>\n",
       "      <td>NaN</td>\n",
       "      <td>Comoros</td>\n",
       "      <td>-11.645500</td>\n",
       "      <td>43.333300</td>\n",
       "      <td>0</td>\n",
       "      <td>0</td>\n",
       "      <td>0</td>\n",
       "      <td>0</td>\n",
       "      <td>0</td>\n",
       "      <td>0</td>\n",
       "      <td>...</td>\n",
       "      <td>5603</td>\n",
       "      <td>5729</td>\n",
       "      <td>5867</td>\n",
       "      <td>6043</td>\n",
       "      <td>6284</td>\n",
       "      <td>6515</td>\n",
       "      <td>6688</td>\n",
       "      <td>6835</td>\n",
       "      <td>6907</td>\n",
       "      <td>7068</td>\n",
       "    </tr>\n",
       "    <tr>\n",
       "      <th>54</th>\n",
       "      <td>Yukon</td>\n",
       "      <td>Canada</td>\n",
       "      <td>64.282300</td>\n",
       "      <td>-135.000000</td>\n",
       "      <td>0</td>\n",
       "      <td>0</td>\n",
       "      <td>0</td>\n",
       "      <td>0</td>\n",
       "      <td>0</td>\n",
       "      <td>0</td>\n",
       "      <td>...</td>\n",
       "      <td>1668</td>\n",
       "      <td>1668</td>\n",
       "      <td>1668</td>\n",
       "      <td>1695</td>\n",
       "      <td>1729</td>\n",
       "      <td>1755</td>\n",
       "      <td>1755</td>\n",
       "      <td>1755</td>\n",
       "      <td>1755</td>\n",
       "      <td>1944</td>\n",
       "    </tr>\n",
       "    <tr>\n",
       "      <th>122</th>\n",
       "      <td>Martinique</td>\n",
       "      <td>France</td>\n",
       "      <td>14.641500</td>\n",
       "      <td>-61.024200</td>\n",
       "      <td>0</td>\n",
       "      <td>0</td>\n",
       "      <td>0</td>\n",
       "      <td>0</td>\n",
       "      <td>0</td>\n",
       "      <td>0</td>\n",
       "      <td>...</td>\n",
       "      <td>47337</td>\n",
       "      <td>47828</td>\n",
       "      <td>47828</td>\n",
       "      <td>48123</td>\n",
       "      <td>48123</td>\n",
       "      <td>48123</td>\n",
       "      <td>48123</td>\n",
       "      <td>48123</td>\n",
       "      <td>48123</td>\n",
       "      <td>50005</td>\n",
       "    </tr>\n",
       "    <tr>\n",
       "      <th>61</th>\n",
       "      <td>Fujian</td>\n",
       "      <td>China</td>\n",
       "      <td>26.078900</td>\n",
       "      <td>117.987400</td>\n",
       "      <td>1</td>\n",
       "      <td>5</td>\n",
       "      <td>10</td>\n",
       "      <td>18</td>\n",
       "      <td>35</td>\n",
       "      <td>59</td>\n",
       "      <td>...</td>\n",
       "      <td>1350</td>\n",
       "      <td>1352</td>\n",
       "      <td>1354</td>\n",
       "      <td>1358</td>\n",
       "      <td>1359</td>\n",
       "      <td>1363</td>\n",
       "      <td>1372</td>\n",
       "      <td>1372</td>\n",
       "      <td>1383</td>\n",
       "      <td>1390</td>\n",
       "    </tr>\n",
       "    <tr>\n",
       "      <th>126</th>\n",
       "      <td>Saint Barthelemy</td>\n",
       "      <td>France</td>\n",
       "      <td>17.900000</td>\n",
       "      <td>-62.833300</td>\n",
       "      <td>0</td>\n",
       "      <td>0</td>\n",
       "      <td>0</td>\n",
       "      <td>0</td>\n",
       "      <td>0</td>\n",
       "      <td>0</td>\n",
       "      <td>...</td>\n",
       "      <td>1692</td>\n",
       "      <td>1725</td>\n",
       "      <td>1726</td>\n",
       "      <td>1726</td>\n",
       "      <td>1895</td>\n",
       "      <td>1895</td>\n",
       "      <td>1895</td>\n",
       "      <td>1895</td>\n",
       "      <td>1895</td>\n",
       "      <td>1955</td>\n",
       "    </tr>\n",
       "    <tr>\n",
       "      <th>226</th>\n",
       "      <td>NaN</td>\n",
       "      <td>Senegal</td>\n",
       "      <td>14.497400</td>\n",
       "      <td>-14.452400</td>\n",
       "      <td>0</td>\n",
       "      <td>0</td>\n",
       "      <td>0</td>\n",
       "      <td>0</td>\n",
       "      <td>0</td>\n",
       "      <td>0</td>\n",
       "      <td>...</td>\n",
       "      <td>74412</td>\n",
       "      <td>74469</td>\n",
       "      <td>74516</td>\n",
       "      <td>74672</td>\n",
       "      <td>74870</td>\n",
       "      <td>75055</td>\n",
       "      <td>75337</td>\n",
       "      <td>75671</td>\n",
       "      <td>75959</td>\n",
       "      <td>76233</td>\n",
       "    </tr>\n",
       "    <tr>\n",
       "      <th>17</th>\n",
       "      <td>NaN</td>\n",
       "      <td>Azerbaijan</td>\n",
       "      <td>40.143100</td>\n",
       "      <td>47.576900</td>\n",
       "      <td>0</td>\n",
       "      <td>0</td>\n",
       "      <td>0</td>\n",
       "      <td>0</td>\n",
       "      <td>0</td>\n",
       "      <td>0</td>\n",
       "      <td>...</td>\n",
       "      <td>614630</td>\n",
       "      <td>614936</td>\n",
       "      <td>615312</td>\n",
       "      <td>615842</td>\n",
       "      <td>616352</td>\n",
       "      <td>616947</td>\n",
       "      <td>617311</td>\n",
       "      <td>617679</td>\n",
       "      <td>617952</td>\n",
       "      <td>618365</td>\n",
       "    </tr>\n",
       "    <tr>\n",
       "      <th>215</th>\n",
       "      <td>NaN</td>\n",
       "      <td>Qatar</td>\n",
       "      <td>25.354800</td>\n",
       "      <td>51.183900</td>\n",
       "      <td>0</td>\n",
       "      <td>0</td>\n",
       "      <td>0</td>\n",
       "      <td>0</td>\n",
       "      <td>0</td>\n",
       "      <td>0</td>\n",
       "      <td>...</td>\n",
       "      <td>248092</td>\n",
       "      <td>248435</td>\n",
       "      <td>248802</td>\n",
       "      <td>249245</td>\n",
       "      <td>249787</td>\n",
       "      <td>250528</td>\n",
       "      <td>251361</td>\n",
       "      <td>252359</td>\n",
       "      <td>253536</td>\n",
       "      <td>255231</td>\n",
       "    </tr>\n",
       "    <tr>\n",
       "      <th>146</th>\n",
       "      <td>NaN</td>\n",
       "      <td>Iceland</td>\n",
       "      <td>64.963100</td>\n",
       "      <td>-19.020800</td>\n",
       "      <td>0</td>\n",
       "      <td>0</td>\n",
       "      <td>0</td>\n",
       "      <td>0</td>\n",
       "      <td>0</td>\n",
       "      <td>0</td>\n",
       "      <td>...</td>\n",
       "      <td>22087</td>\n",
       "      <td>24340</td>\n",
       "      <td>25314</td>\n",
       "      <td>25314</td>\n",
       "      <td>27059</td>\n",
       "      <td>27059</td>\n",
       "      <td>27059</td>\n",
       "      <td>27059</td>\n",
       "      <td>31070</td>\n",
       "      <td>32540</td>\n",
       "    </tr>\n",
       "    <tr>\n",
       "      <th>21</th>\n",
       "      <td>NaN</td>\n",
       "      <td>Barbados</td>\n",
       "      <td>13.193900</td>\n",
       "      <td>-59.543200</td>\n",
       "      <td>0</td>\n",
       "      <td>0</td>\n",
       "      <td>0</td>\n",
       "      <td>0</td>\n",
       "      <td>0</td>\n",
       "      <td>0</td>\n",
       "      <td>...</td>\n",
       "      <td>27673</td>\n",
       "      <td>27724</td>\n",
       "      <td>27836</td>\n",
       "      <td>28063</td>\n",
       "      <td>28310</td>\n",
       "      <td>28565</td>\n",
       "      <td>28810</td>\n",
       "      <td>28960</td>\n",
       "      <td>29160</td>\n",
       "      <td>29698</td>\n",
       "    </tr>\n",
       "    <tr>\n",
       "      <th>207</th>\n",
       "      <td>NaN</td>\n",
       "      <td>Palau</td>\n",
       "      <td>7.515000</td>\n",
       "      <td>134.582500</td>\n",
       "      <td>0</td>\n",
       "      <td>0</td>\n",
       "      <td>0</td>\n",
       "      <td>0</td>\n",
       "      <td>0</td>\n",
       "      <td>0</td>\n",
       "      <td>...</td>\n",
       "      <td>8</td>\n",
       "      <td>8</td>\n",
       "      <td>8</td>\n",
       "      <td>8</td>\n",
       "      <td>8</td>\n",
       "      <td>8</td>\n",
       "      <td>8</td>\n",
       "      <td>8</td>\n",
       "      <td>8</td>\n",
       "      <td>8</td>\n",
       "    </tr>\n",
       "    <tr>\n",
       "      <th>114</th>\n",
       "      <td>NaN</td>\n",
       "      <td>Estonia</td>\n",
       "      <td>58.595300</td>\n",
       "      <td>25.013600</td>\n",
       "      <td>0</td>\n",
       "      <td>0</td>\n",
       "      <td>0</td>\n",
       "      <td>0</td>\n",
       "      <td>0</td>\n",
       "      <td>0</td>\n",
       "      <td>...</td>\n",
       "      <td>236565</td>\n",
       "      <td>237099</td>\n",
       "      <td>238079</td>\n",
       "      <td>238957</td>\n",
       "      <td>240334</td>\n",
       "      <td>241408</td>\n",
       "      <td>242123</td>\n",
       "      <td>242552</td>\n",
       "      <td>243236</td>\n",
       "      <td>244733</td>\n",
       "    </tr>\n",
       "    <tr>\n",
       "      <th>240</th>\n",
       "      <td>NaN</td>\n",
       "      <td>Summer Olympics 2020</td>\n",
       "      <td>35.649100</td>\n",
       "      <td>139.773700</td>\n",
       "      <td>0</td>\n",
       "      <td>0</td>\n",
       "      <td>0</td>\n",
       "      <td>0</td>\n",
       "      <td>0</td>\n",
       "      <td>0</td>\n",
       "      <td>...</td>\n",
       "      <td>865</td>\n",
       "      <td>865</td>\n",
       "      <td>865</td>\n",
       "      <td>865</td>\n",
       "      <td>865</td>\n",
       "      <td>865</td>\n",
       "      <td>865</td>\n",
       "      <td>865</td>\n",
       "      <td>865</td>\n",
       "      <td>865</td>\n",
       "    </tr>\n",
       "    <tr>\n",
       "      <th>211</th>\n",
       "      <td>NaN</td>\n",
       "      <td>Peru</td>\n",
       "      <td>-9.190000</td>\n",
       "      <td>-75.015200</td>\n",
       "      <td>0</td>\n",
       "      <td>0</td>\n",
       "      <td>0</td>\n",
       "      <td>0</td>\n",
       "      <td>0</td>\n",
       "      <td>0</td>\n",
       "      <td>...</td>\n",
       "      <td>2278807</td>\n",
       "      <td>2279299</td>\n",
       "      <td>2279299</td>\n",
       "      <td>2279299</td>\n",
       "      <td>2292254</td>\n",
       "      <td>2292254</td>\n",
       "      <td>2296831</td>\n",
       "      <td>2301177</td>\n",
       "      <td>2304674</td>\n",
       "      <td>2309856</td>\n",
       "    </tr>\n",
       "  </tbody>\n",
       "</table>\n",
       "<p>20 rows × 718 columns</p>\n",
       "</div>"
      ],
      "text/plain": [
       "       Province/State        Country/Region        Lat        Long  1/22/20  \\\n",
       "183               NaN                Mexico  23.634500 -102.552800        0   \n",
       "234               NaN               Somalia   5.152149   46.199616        0   \n",
       "119     French Guiana                France   3.933900  -53.125800        0   \n",
       "263   Channel Islands        United Kingdom  49.372300   -2.364400        0   \n",
       "47        Nova Scotia                Canada  44.682000  -63.744300        0   \n",
       "94                NaN   Congo (Brazzaville)  -0.228000   15.827700        0   \n",
       "93                NaN               Comoros -11.645500   43.333300        0   \n",
       "54              Yukon                Canada  64.282300 -135.000000        0   \n",
       "122        Martinique                France  14.641500  -61.024200        0   \n",
       "61             Fujian                 China  26.078900  117.987400        1   \n",
       "126  Saint Barthelemy                France  17.900000  -62.833300        0   \n",
       "226               NaN               Senegal  14.497400  -14.452400        0   \n",
       "17                NaN            Azerbaijan  40.143100   47.576900        0   \n",
       "215               NaN                 Qatar  25.354800   51.183900        0   \n",
       "146               NaN               Iceland  64.963100  -19.020800        0   \n",
       "21                NaN              Barbados  13.193900  -59.543200        0   \n",
       "207               NaN                 Palau   7.515000  134.582500        0   \n",
       "114               NaN               Estonia  58.595300   25.013600        0   \n",
       "240               NaN  Summer Olympics 2020  35.649100  139.773700        0   \n",
       "211               NaN                  Peru  -9.190000  -75.015200        0   \n",
       "\n",
       "     1/23/20  1/24/20  1/25/20  1/26/20  1/27/20  ...  12/26/21  12/27/21  \\\n",
       "183        0        0        0        0        0  ...   3950200   3951003   \n",
       "234        0        0        0        0        0  ...     23532     23532   \n",
       "119        0        0        0        0        0  ...     47012     47229   \n",
       "263        0        0        0        0        0  ...     23627     23627   \n",
       "47         0        0        0        0        0  ...     14888     15469   \n",
       "94         0        0        0        0        0  ...     19490     20089   \n",
       "93         0        0        0        0        0  ...      5603      5729   \n",
       "54         0        0        0        0        0  ...      1668      1668   \n",
       "122        0        0        0        0        0  ...     47337     47828   \n",
       "61         5       10       18       35       59  ...      1350      1352   \n",
       "126        0        0        0        0        0  ...      1692      1725   \n",
       "226        0        0        0        0        0  ...     74412     74469   \n",
       "17         0        0        0        0        0  ...    614630    614936   \n",
       "215        0        0        0        0        0  ...    248092    248435   \n",
       "146        0        0        0        0        0  ...     22087     24340   \n",
       "21         0        0        0        0        0  ...     27673     27724   \n",
       "207        0        0        0        0        0  ...         8         8   \n",
       "114        0        0        0        0        0  ...    236565    237099   \n",
       "240        0        0        0        0        0  ...       865       865   \n",
       "211        0        0        0        0        0  ...   2278807   2279299   \n",
       "\n",
       "     12/28/21  12/29/21  12/30/21  12/31/21   1/1/22   1/2/22   1/3/22  \\\n",
       "183   3951946   3956372   3961662   3979723  3988916  3990587  3993464   \n",
       "234     23532     23532     23532     23532    23532    23532    23532   \n",
       "119     47332     47631     47631     47631    47631    47631    47631   \n",
       "263     23627     25998     26799     27507    27507    27507    27507   \n",
       "47      16030     16616     17127     17745    18454    19638    20658   \n",
       "94      20089     20089     20089     20089    20089    20089    21277   \n",
       "93       5867      6043      6284      6515     6688     6835     6907   \n",
       "54       1668      1695      1729      1755     1755     1755     1755   \n",
       "122     47828     48123     48123     48123    48123    48123    48123   \n",
       "61       1354      1358      1359      1363     1372     1372     1383   \n",
       "126      1726      1726      1895      1895     1895     1895     1895   \n",
       "226     74516     74672     74870     75055    75337    75671    75959   \n",
       "17     615312    615842    616352    616947   617311   617679   617952   \n",
       "215    248802    249245    249787    250528   251361   252359   253536   \n",
       "146     25314     25314     27059     27059    27059    27059    31070   \n",
       "21      27836     28063     28310     28565    28810    28960    29160   \n",
       "207         8         8         8         8        8        8        8   \n",
       "114    238079    238957    240334    241408   242123   242552   243236   \n",
       "240       865       865       865       865      865      865      865   \n",
       "211   2279299   2279299   2292254   2292254  2296831  2301177  2304674   \n",
       "\n",
       "      1/4/22  \n",
       "183  4008648  \n",
       "234    23532  \n",
       "119    49771  \n",
       "263    30024  \n",
       "47     21678  \n",
       "94     21277  \n",
       "93      7068  \n",
       "54      1944  \n",
       "122    50005  \n",
       "61      1390  \n",
       "126     1955  \n",
       "226    76233  \n",
       "17    618365  \n",
       "215   255231  \n",
       "146    32540  \n",
       "21     29698  \n",
       "207        8  \n",
       "114   244733  \n",
       "240      865  \n",
       "211  2309856  \n",
       "\n",
       "[20 rows x 718 columns]"
      ]
     },
     "execution_count": 22,
     "metadata": {},
     "output_type": "execute_result"
    }
   ],
   "source": [
    "# Amostras aleatórias do conjunto de dados\n",
    "confirmed.sample(20)"
   ]
  },
  {
   "cell_type": "code",
   "execution_count": 26,
   "metadata": {
    "colab": {
     "base_uri": "https://localhost:8080/",
     "height": 773
    },
    "colab_type": "code",
    "id": "o3Kga3RKh500",
    "outputId": "b9fba51a-1206-4624-a0d2-7edbdd5e1b8b"
   },
   "outputs": [
    {
     "data": {
      "text/plain": [
       "Country/Region       China\n",
       "Lat                31.8257\n",
       "Long              117.2264\n",
       "1/22/20                  1\n",
       "1/23/20                  9\n",
       "                    ...   \n",
       "12/31/21              1009\n",
       "1/1/22                1009\n",
       "1/2/22                1009\n",
       "1/3/22                1009\n",
       "1/4/22                1009\n",
       "Name: Anhui, Length: 717, dtype: object"
      ]
     },
     "execution_count": 26,
     "metadata": {},
     "output_type": "execute_result"
    }
   ],
   "source": [
    "# Pegar um índice do conjunto de dados\n",
    "confirmed.set_index(\"Province/State\").loc[\"Anhui\"]"
   ]
  },
  {
   "cell_type": "code",
   "execution_count": 27,
   "metadata": {
    "colab": {
     "base_uri": "https://localhost:8080/",
     "height": 773
    },
    "colab_type": "code",
    "id": "2SyYtm1AiBYk",
    "outputId": "ab4aa17a-5707-4880-d80a-1d099774cded"
   },
   "outputs": [
    {
     "data": {
      "text/plain": [
       "Country/Region    Albania\n",
       "Lat               41.1533\n",
       "Long              20.1683\n",
       "1/22/20                 0\n",
       "1/23/20                 0\n",
       "                   ...   \n",
       "12/31/21           210224\n",
       "1/1/22             210224\n",
       "1/2/22             210885\n",
       "1/3/22             210885\n",
       "1/4/22             212021\n",
       "Name: nan, Length: 717, dtype: object"
      ]
     },
     "execution_count": 27,
     "metadata": {},
     "output_type": "execute_result"
    }
   ],
   "source": [
    "# Pegar uma linha do conjunto de dados\n",
    "confirmed.set_index(\"Province/State\").iloc[1]"
   ]
  },
  {
   "cell_type": "code",
   "execution_count": 29,
   "metadata": {
    "colab": {
     "base_uri": "https://localhost:8080/",
     "height": 218
    },
    "colab_type": "code",
    "id": "_sytBg9EiM9U",
    "outputId": "7d3cd2a4-44d2-45f3-c69d-33f605f2f967"
   },
   "outputs": [
    {
     "data": {
      "text/plain": [
       "China             34\n",
       "Canada            16\n",
       "United Kingdom    12\n",
       "France            12\n",
       "Australia          8\n",
       "                  ..\n",
       "Guinea             1\n",
       "Guinea-Bissau      1\n",
       "Guyana             1\n",
       "Haiti              1\n",
       "Zimbabwe           1\n",
       "Name: Country/Region, Length: 196, dtype: int64"
      ]
     },
     "execution_count": 29,
     "metadata": {},
     "output_type": "execute_result"
    }
   ],
   "source": [
    "# Quantos países no relatório\n",
    "# Número fácil, o erro é muito grande\n",
    "# Muitos campos vazios\n",
    "confirmed[\"Country/Region\"].value_counts()"
   ]
  },
  {
   "cell_type": "code",
   "execution_count": 30,
   "metadata": {
    "colab": {
     "base_uri": "https://localhost:8080/",
     "height": 245
    },
    "colab_type": "code",
    "id": "EisiJz75iatq",
    "outputId": "bb24e93b-589d-4085-cfe5-009394a9b42f"
   },
   "outputs": [
    {
     "data": {
      "text/html": [
       "<div>\n",
       "<style scoped>\n",
       "    .dataframe tbody tr th:only-of-type {\n",
       "        vertical-align: middle;\n",
       "    }\n",
       "\n",
       "    .dataframe tbody tr th {\n",
       "        vertical-align: top;\n",
       "    }\n",
       "\n",
       "    .dataframe thead th {\n",
       "        text-align: right;\n",
       "    }\n",
       "</style>\n",
       "<table border=\"1\" class=\"dataframe\">\n",
       "  <thead>\n",
       "    <tr style=\"text-align: right;\">\n",
       "      <th></th>\n",
       "      <th>Lat</th>\n",
       "      <th>Long</th>\n",
       "      <th>1/22/20</th>\n",
       "      <th>1/23/20</th>\n",
       "      <th>1/24/20</th>\n",
       "      <th>1/25/20</th>\n",
       "      <th>1/26/20</th>\n",
       "      <th>1/27/20</th>\n",
       "      <th>1/28/20</th>\n",
       "      <th>1/29/20</th>\n",
       "      <th>...</th>\n",
       "      <th>12/26/21</th>\n",
       "      <th>12/27/21</th>\n",
       "      <th>12/28/21</th>\n",
       "      <th>12/29/21</th>\n",
       "      <th>12/30/21</th>\n",
       "      <th>12/31/21</th>\n",
       "      <th>1/1/22</th>\n",
       "      <th>1/2/22</th>\n",
       "      <th>1/3/22</th>\n",
       "      <th>1/4/22</th>\n",
       "    </tr>\n",
       "    <tr>\n",
       "      <th>Country/Region</th>\n",
       "      <th></th>\n",
       "      <th></th>\n",
       "      <th></th>\n",
       "      <th></th>\n",
       "      <th></th>\n",
       "      <th></th>\n",
       "      <th></th>\n",
       "      <th></th>\n",
       "      <th></th>\n",
       "      <th></th>\n",
       "      <th></th>\n",
       "      <th></th>\n",
       "      <th></th>\n",
       "      <th></th>\n",
       "      <th></th>\n",
       "      <th></th>\n",
       "      <th></th>\n",
       "      <th></th>\n",
       "      <th></th>\n",
       "      <th></th>\n",
       "      <th></th>\n",
       "    </tr>\n",
       "  </thead>\n",
       "  <tbody>\n",
       "    <tr>\n",
       "      <th>Afghanistan</th>\n",
       "      <td>33.93911</td>\n",
       "      <td>67.709953</td>\n",
       "      <td>0</td>\n",
       "      <td>0</td>\n",
       "      <td>0</td>\n",
       "      <td>0</td>\n",
       "      <td>0</td>\n",
       "      <td>0</td>\n",
       "      <td>0</td>\n",
       "      <td>0</td>\n",
       "      <td>...</td>\n",
       "      <td>157951</td>\n",
       "      <td>157967</td>\n",
       "      <td>157998</td>\n",
       "      <td>158037</td>\n",
       "      <td>158056</td>\n",
       "      <td>158084</td>\n",
       "      <td>158107</td>\n",
       "      <td>158189</td>\n",
       "      <td>158183</td>\n",
       "      <td>158205</td>\n",
       "    </tr>\n",
       "    <tr>\n",
       "      <th>Albania</th>\n",
       "      <td>41.15330</td>\n",
       "      <td>20.168300</td>\n",
       "      <td>0</td>\n",
       "      <td>0</td>\n",
       "      <td>0</td>\n",
       "      <td>0</td>\n",
       "      <td>0</td>\n",
       "      <td>0</td>\n",
       "      <td>0</td>\n",
       "      <td>0</td>\n",
       "      <td>...</td>\n",
       "      <td>207709</td>\n",
       "      <td>207709</td>\n",
       "      <td>208352</td>\n",
       "      <td>208899</td>\n",
       "      <td>208899</td>\n",
       "      <td>210224</td>\n",
       "      <td>210224</td>\n",
       "      <td>210885</td>\n",
       "      <td>210885</td>\n",
       "      <td>212021</td>\n",
       "    </tr>\n",
       "    <tr>\n",
       "      <th>Algeria</th>\n",
       "      <td>28.03390</td>\n",
       "      <td>1.659600</td>\n",
       "      <td>0</td>\n",
       "      <td>0</td>\n",
       "      <td>0</td>\n",
       "      <td>0</td>\n",
       "      <td>0</td>\n",
       "      <td>0</td>\n",
       "      <td>0</td>\n",
       "      <td>0</td>\n",
       "      <td>...</td>\n",
       "      <td>216637</td>\n",
       "      <td>216930</td>\n",
       "      <td>217265</td>\n",
       "      <td>217647</td>\n",
       "      <td>218037</td>\n",
       "      <td>218432</td>\n",
       "      <td>218818</td>\n",
       "      <td>219159</td>\n",
       "      <td>219532</td>\n",
       "      <td>219953</td>\n",
       "    </tr>\n",
       "    <tr>\n",
       "      <th>Andorra</th>\n",
       "      <td>42.50630</td>\n",
       "      <td>1.521800</td>\n",
       "      <td>0</td>\n",
       "      <td>0</td>\n",
       "      <td>0</td>\n",
       "      <td>0</td>\n",
       "      <td>0</td>\n",
       "      <td>0</td>\n",
       "      <td>0</td>\n",
       "      <td>0</td>\n",
       "      <td>...</td>\n",
       "      <td>21730</td>\n",
       "      <td>22332</td>\n",
       "      <td>22540</td>\n",
       "      <td>22823</td>\n",
       "      <td>23122</td>\n",
       "      <td>23740</td>\n",
       "      <td>23740</td>\n",
       "      <td>23740</td>\n",
       "      <td>24502</td>\n",
       "      <td>24802</td>\n",
       "    </tr>\n",
       "    <tr>\n",
       "      <th>Angola</th>\n",
       "      <td>-11.20270</td>\n",
       "      <td>17.873900</td>\n",
       "      <td>0</td>\n",
       "      <td>0</td>\n",
       "      <td>0</td>\n",
       "      <td>0</td>\n",
       "      <td>0</td>\n",
       "      <td>0</td>\n",
       "      <td>0</td>\n",
       "      <td>0</td>\n",
       "      <td>...</td>\n",
       "      <td>71752</td>\n",
       "      <td>71752</td>\n",
       "      <td>76787</td>\n",
       "      <td>78475</td>\n",
       "      <td>79871</td>\n",
       "      <td>81593</td>\n",
       "      <td>82398</td>\n",
       "      <td>82920</td>\n",
       "      <td>83764</td>\n",
       "      <td>84666</td>\n",
       "    </tr>\n",
       "  </tbody>\n",
       "</table>\n",
       "<p>5 rows × 716 columns</p>\n",
       "</div>"
      ],
      "text/plain": [
       "                     Lat       Long  1/22/20  1/23/20  1/24/20  1/25/20  \\\n",
       "Country/Region                                                            \n",
       "Afghanistan     33.93911  67.709953        0        0        0        0   \n",
       "Albania         41.15330  20.168300        0        0        0        0   \n",
       "Algeria         28.03390   1.659600        0        0        0        0   \n",
       "Andorra         42.50630   1.521800        0        0        0        0   \n",
       "Angola         -11.20270  17.873900        0        0        0        0   \n",
       "\n",
       "                1/26/20  1/27/20  1/28/20  1/29/20  ...  12/26/21  12/27/21  \\\n",
       "Country/Region                                      ...                       \n",
       "Afghanistan           0        0        0        0  ...    157951    157967   \n",
       "Albania               0        0        0        0  ...    207709    207709   \n",
       "Algeria               0        0        0        0  ...    216637    216930   \n",
       "Andorra               0        0        0        0  ...     21730     22332   \n",
       "Angola                0        0        0        0  ...     71752     71752   \n",
       "\n",
       "                12/28/21  12/29/21  12/30/21  12/31/21  1/1/22  1/2/22  \\\n",
       "Country/Region                                                           \n",
       "Afghanistan       157998    158037    158056    158084  158107  158189   \n",
       "Albania           208352    208899    208899    210224  210224  210885   \n",
       "Algeria           217265    217647    218037    218432  218818  219159   \n",
       "Andorra            22540     22823     23122     23740   23740   23740   \n",
       "Angola             76787     78475     79871     81593   82398   82920   \n",
       "\n",
       "                1/3/22  1/4/22  \n",
       "Country/Region                  \n",
       "Afghanistan     158183  158205  \n",
       "Albania         210885  212021  \n",
       "Algeria         219532  219953  \n",
       "Andorra          24502   24802  \n",
       "Angola           83764   84666  \n",
       "\n",
       "[5 rows x 716 columns]"
      ]
     },
     "execution_count": 30,
     "metadata": {},
     "output_type": "execute_result"
    }
   ],
   "source": [
    "# Agrupar o número de confirmados por país\n",
    "confirmed_by_country = confirmed.groupby(\"Country/Region\").sum()\n",
    "confirmed_by_country.head()"
   ]
  },
  {
   "cell_type": "code",
   "execution_count": 32,
   "metadata": {
    "colab": {
     "base_uri": "https://localhost:8080/",
     "height": 393
    },
    "colab_type": "code",
    "id": "gEK8hkqzi7BS",
    "outputId": "20c6dc49-47c0-4864-a755-1f9c58e65f9b"
   },
   "outputs": [
    {
     "data": {
      "text/html": [
       "<div>\n",
       "<style scoped>\n",
       "    .dataframe tbody tr th:only-of-type {\n",
       "        vertical-align: middle;\n",
       "    }\n",
       "\n",
       "    .dataframe tbody tr th {\n",
       "        vertical-align: top;\n",
       "    }\n",
       "\n",
       "    .dataframe thead th {\n",
       "        text-align: right;\n",
       "    }\n",
       "</style>\n",
       "<table border=\"1\" class=\"dataframe\">\n",
       "  <thead>\n",
       "    <tr style=\"text-align: right;\">\n",
       "      <th></th>\n",
       "      <th>Lat</th>\n",
       "      <th>Long</th>\n",
       "      <th>1/22/20</th>\n",
       "      <th>1/23/20</th>\n",
       "      <th>1/24/20</th>\n",
       "      <th>1/25/20</th>\n",
       "      <th>1/26/20</th>\n",
       "      <th>1/27/20</th>\n",
       "      <th>1/28/20</th>\n",
       "      <th>1/29/20</th>\n",
       "      <th>...</th>\n",
       "      <th>12/26/21</th>\n",
       "      <th>12/27/21</th>\n",
       "      <th>12/28/21</th>\n",
       "      <th>12/29/21</th>\n",
       "      <th>12/30/21</th>\n",
       "      <th>12/31/21</th>\n",
       "      <th>1/1/22</th>\n",
       "      <th>1/2/22</th>\n",
       "      <th>1/3/22</th>\n",
       "      <th>1/4/22</th>\n",
       "    </tr>\n",
       "    <tr>\n",
       "      <th>Country/Region</th>\n",
       "      <th></th>\n",
       "      <th></th>\n",
       "      <th></th>\n",
       "      <th></th>\n",
       "      <th></th>\n",
       "      <th></th>\n",
       "      <th></th>\n",
       "      <th></th>\n",
       "      <th></th>\n",
       "      <th></th>\n",
       "      <th></th>\n",
       "      <th></th>\n",
       "      <th></th>\n",
       "      <th></th>\n",
       "      <th></th>\n",
       "      <th></th>\n",
       "      <th></th>\n",
       "      <th></th>\n",
       "      <th></th>\n",
       "      <th></th>\n",
       "      <th></th>\n",
       "    </tr>\n",
       "  </thead>\n",
       "  <tbody>\n",
       "    <tr>\n",
       "      <th>Grenada</th>\n",
       "      <td>12.116500</td>\n",
       "      <td>-61.679000</td>\n",
       "      <td>0</td>\n",
       "      <td>0</td>\n",
       "      <td>0</td>\n",
       "      <td>0</td>\n",
       "      <td>0</td>\n",
       "      <td>0</td>\n",
       "      <td>0</td>\n",
       "      <td>0</td>\n",
       "      <td>...</td>\n",
       "      <td>5956</td>\n",
       "      <td>5961</td>\n",
       "      <td>5968</td>\n",
       "      <td>6009</td>\n",
       "      <td>6181</td>\n",
       "      <td>6181</td>\n",
       "      <td>6299</td>\n",
       "      <td>6306</td>\n",
       "      <td>6338</td>\n",
       "      <td>6787</td>\n",
       "    </tr>\n",
       "    <tr>\n",
       "      <th>United Kingdom</th>\n",
       "      <td>262.083198</td>\n",
       "      <td>-497.280566</td>\n",
       "      <td>0</td>\n",
       "      <td>0</td>\n",
       "      <td>0</td>\n",
       "      <td>0</td>\n",
       "      <td>0</td>\n",
       "      <td>0</td>\n",
       "      <td>0</td>\n",
       "      <td>0</td>\n",
       "      <td>...</td>\n",
       "      <td>12199734</td>\n",
       "      <td>12307620</td>\n",
       "      <td>12445843</td>\n",
       "      <td>12630442</td>\n",
       "      <td>12820685</td>\n",
       "      <td>13011556</td>\n",
       "      <td>13174528</td>\n",
       "      <td>13309651</td>\n",
       "      <td>13497515</td>\n",
       "      <td>13723275</td>\n",
       "    </tr>\n",
       "    <tr>\n",
       "      <th>Hungary</th>\n",
       "      <td>47.162500</td>\n",
       "      <td>19.503300</td>\n",
       "      <td>0</td>\n",
       "      <td>0</td>\n",
       "      <td>0</td>\n",
       "      <td>0</td>\n",
       "      <td>0</td>\n",
       "      <td>0</td>\n",
       "      <td>0</td>\n",
       "      <td>0</td>\n",
       "      <td>...</td>\n",
       "      <td>1237330</td>\n",
       "      <td>1245319</td>\n",
       "      <td>1246689</td>\n",
       "      <td>1249694</td>\n",
       "      <td>1253055</td>\n",
       "      <td>1256415</td>\n",
       "      <td>1256415</td>\n",
       "      <td>1256415</td>\n",
       "      <td>1262280</td>\n",
       "      <td>1264709</td>\n",
       "    </tr>\n",
       "    <tr>\n",
       "      <th>Sao Tome and Principe</th>\n",
       "      <td>0.186400</td>\n",
       "      <td>6.613100</td>\n",
       "      <td>0</td>\n",
       "      <td>0</td>\n",
       "      <td>0</td>\n",
       "      <td>0</td>\n",
       "      <td>0</td>\n",
       "      <td>0</td>\n",
       "      <td>0</td>\n",
       "      <td>0</td>\n",
       "      <td>...</td>\n",
       "      <td>3758</td>\n",
       "      <td>3759</td>\n",
       "      <td>3790</td>\n",
       "      <td>3819</td>\n",
       "      <td>3877</td>\n",
       "      <td>3897</td>\n",
       "      <td>3903</td>\n",
       "      <td>3912</td>\n",
       "      <td>3945</td>\n",
       "      <td>4010</td>\n",
       "    </tr>\n",
       "    <tr>\n",
       "      <th>Netherlands</th>\n",
       "      <td>107.044200</td>\n",
       "      <td>-264.960300</td>\n",
       "      <td>0</td>\n",
       "      <td>0</td>\n",
       "      <td>0</td>\n",
       "      <td>0</td>\n",
       "      <td>0</td>\n",
       "      <td>0</td>\n",
       "      <td>0</td>\n",
       "      <td>0</td>\n",
       "      <td>...</td>\n",
       "      <td>3109758</td>\n",
       "      <td>3121711</td>\n",
       "      <td>3131799</td>\n",
       "      <td>3148764</td>\n",
       "      <td>3164890</td>\n",
       "      <td>3183134</td>\n",
       "      <td>3200168</td>\n",
       "      <td>3218604</td>\n",
       "      <td>3234143</td>\n",
       "      <td>3254947</td>\n",
       "    </tr>\n",
       "    <tr>\n",
       "      <th>Suriname</th>\n",
       "      <td>3.919300</td>\n",
       "      <td>-56.027800</td>\n",
       "      <td>0</td>\n",
       "      <td>0</td>\n",
       "      <td>0</td>\n",
       "      <td>0</td>\n",
       "      <td>0</td>\n",
       "      <td>0</td>\n",
       "      <td>0</td>\n",
       "      <td>0</td>\n",
       "      <td>...</td>\n",
       "      <td>51578</td>\n",
       "      <td>51683</td>\n",
       "      <td>51791</td>\n",
       "      <td>52031</td>\n",
       "      <td>52269</td>\n",
       "      <td>52446</td>\n",
       "      <td>52612</td>\n",
       "      <td>52895</td>\n",
       "      <td>53640</td>\n",
       "      <td>54460</td>\n",
       "    </tr>\n",
       "    <tr>\n",
       "      <th>Syria</th>\n",
       "      <td>34.802075</td>\n",
       "      <td>38.996815</td>\n",
       "      <td>0</td>\n",
       "      <td>0</td>\n",
       "      <td>0</td>\n",
       "      <td>0</td>\n",
       "      <td>0</td>\n",
       "      <td>0</td>\n",
       "      <td>0</td>\n",
       "      <td>0</td>\n",
       "      <td>...</td>\n",
       "      <td>50089</td>\n",
       "      <td>50127</td>\n",
       "      <td>50167</td>\n",
       "      <td>50204</td>\n",
       "      <td>50243</td>\n",
       "      <td>50278</td>\n",
       "      <td>50310</td>\n",
       "      <td>50337</td>\n",
       "      <td>50364</td>\n",
       "      <td>50390</td>\n",
       "    </tr>\n",
       "    <tr>\n",
       "      <th>Yemen</th>\n",
       "      <td>15.552727</td>\n",
       "      <td>48.516388</td>\n",
       "      <td>0</td>\n",
       "      <td>0</td>\n",
       "      <td>0</td>\n",
       "      <td>0</td>\n",
       "      <td>0</td>\n",
       "      <td>0</td>\n",
       "      <td>0</td>\n",
       "      <td>0</td>\n",
       "      <td>...</td>\n",
       "      <td>10115</td>\n",
       "      <td>10118</td>\n",
       "      <td>10123</td>\n",
       "      <td>10125</td>\n",
       "      <td>10126</td>\n",
       "      <td>10126</td>\n",
       "      <td>10127</td>\n",
       "      <td>10130</td>\n",
       "      <td>10138</td>\n",
       "      <td>10143</td>\n",
       "    </tr>\n",
       "    <tr>\n",
       "      <th>Barbados</th>\n",
       "      <td>13.193900</td>\n",
       "      <td>-59.543200</td>\n",
       "      <td>0</td>\n",
       "      <td>0</td>\n",
       "      <td>0</td>\n",
       "      <td>0</td>\n",
       "      <td>0</td>\n",
       "      <td>0</td>\n",
       "      <td>0</td>\n",
       "      <td>0</td>\n",
       "      <td>...</td>\n",
       "      <td>27673</td>\n",
       "      <td>27724</td>\n",
       "      <td>27836</td>\n",
       "      <td>28063</td>\n",
       "      <td>28310</td>\n",
       "      <td>28565</td>\n",
       "      <td>28810</td>\n",
       "      <td>28960</td>\n",
       "      <td>29160</td>\n",
       "      <td>29698</td>\n",
       "    </tr>\n",
       "    <tr>\n",
       "      <th>Israel</th>\n",
       "      <td>31.046051</td>\n",
       "      <td>34.851612</td>\n",
       "      <td>0</td>\n",
       "      <td>0</td>\n",
       "      <td>0</td>\n",
       "      <td>0</td>\n",
       "      <td>0</td>\n",
       "      <td>0</td>\n",
       "      <td>0</td>\n",
       "      <td>0</td>\n",
       "      <td>...</td>\n",
       "      <td>1364959</td>\n",
       "      <td>1368005</td>\n",
       "      <td>1371000</td>\n",
       "      <td>1374446</td>\n",
       "      <td>1380046</td>\n",
       "      <td>1383932</td>\n",
       "      <td>1390053</td>\n",
       "      <td>1395113</td>\n",
       "      <td>1404916</td>\n",
       "      <td>1411798</td>\n",
       "    </tr>\n",
       "  </tbody>\n",
       "</table>\n",
       "<p>10 rows × 716 columns</p>\n",
       "</div>"
      ],
      "text/plain": [
       "                              Lat        Long  1/22/20  1/23/20  1/24/20  \\\n",
       "Country/Region                                                             \n",
       "Grenada                 12.116500  -61.679000        0        0        0   \n",
       "United Kingdom         262.083198 -497.280566        0        0        0   \n",
       "Hungary                 47.162500   19.503300        0        0        0   \n",
       "Sao Tome and Principe    0.186400    6.613100        0        0        0   \n",
       "Netherlands            107.044200 -264.960300        0        0        0   \n",
       "Suriname                 3.919300  -56.027800        0        0        0   \n",
       "Syria                   34.802075   38.996815        0        0        0   \n",
       "Yemen                   15.552727   48.516388        0        0        0   \n",
       "Barbados                13.193900  -59.543200        0        0        0   \n",
       "Israel                  31.046051   34.851612        0        0        0   \n",
       "\n",
       "                       1/25/20  1/26/20  1/27/20  1/28/20  1/29/20  ...  \\\n",
       "Country/Region                                                      ...   \n",
       "Grenada                      0        0        0        0        0  ...   \n",
       "United Kingdom               0        0        0        0        0  ...   \n",
       "Hungary                      0        0        0        0        0  ...   \n",
       "Sao Tome and Principe        0        0        0        0        0  ...   \n",
       "Netherlands                  0        0        0        0        0  ...   \n",
       "Suriname                     0        0        0        0        0  ...   \n",
       "Syria                        0        0        0        0        0  ...   \n",
       "Yemen                        0        0        0        0        0  ...   \n",
       "Barbados                     0        0        0        0        0  ...   \n",
       "Israel                       0        0        0        0        0  ...   \n",
       "\n",
       "                       12/26/21  12/27/21  12/28/21  12/29/21  12/30/21  \\\n",
       "Country/Region                                                            \n",
       "Grenada                    5956      5961      5968      6009      6181   \n",
       "United Kingdom         12199734  12307620  12445843  12630442  12820685   \n",
       "Hungary                 1237330   1245319   1246689   1249694   1253055   \n",
       "Sao Tome and Principe      3758      3759      3790      3819      3877   \n",
       "Netherlands             3109758   3121711   3131799   3148764   3164890   \n",
       "Suriname                  51578     51683     51791     52031     52269   \n",
       "Syria                     50089     50127     50167     50204     50243   \n",
       "Yemen                     10115     10118     10123     10125     10126   \n",
       "Barbados                  27673     27724     27836     28063     28310   \n",
       "Israel                  1364959   1368005   1371000   1374446   1380046   \n",
       "\n",
       "                       12/31/21    1/1/22    1/2/22    1/3/22    1/4/22  \n",
       "Country/Region                                                           \n",
       "Grenada                    6181      6299      6306      6338      6787  \n",
       "United Kingdom         13011556  13174528  13309651  13497515  13723275  \n",
       "Hungary                 1256415   1256415   1256415   1262280   1264709  \n",
       "Sao Tome and Principe      3897      3903      3912      3945      4010  \n",
       "Netherlands             3183134   3200168   3218604   3234143   3254947  \n",
       "Suriname                  52446     52612     52895     53640     54460  \n",
       "Syria                     50278     50310     50337     50364     50390  \n",
       "Yemen                     10126     10127     10130     10138     10143  \n",
       "Barbados                  28565     28810     28960     29160     29698  \n",
       "Israel                  1383932   1390053   1395113   1404916   1411798  \n",
       "\n",
       "[10 rows x 716 columns]"
      ]
     },
     "execution_count": 32,
     "metadata": {},
     "output_type": "execute_result"
    }
   ],
   "source": [
    "confirmed_by_country.sample(10)"
   ]
  },
  {
   "cell_type": "code",
   "execution_count": 35,
   "metadata": {
    "colab": {
     "base_uri": "https://localhost:8080/",
     "height": 722
    },
    "colab_type": "code",
    "id": "ZWSAWTEWjImg",
    "outputId": "aab10ed5-4dcc-4f5e-b9d5-fe3ba68c9ce6"
   },
   "outputs": [
    {
     "data": {
      "text/plain": [
       "1/22/20        548.0\n",
       "1/23/20        643.0\n",
       "1/24/20        920.0\n",
       "1/25/20       1406.0\n",
       "1/26/20       2075.0\n",
       "              ...   \n",
       "12/31/21    115042.0\n",
       "1/1/22      115251.0\n",
       "1/2/22      115409.0\n",
       "1/3/22      115597.0\n",
       "1/4/22      115701.0\n",
       "Name: China, Length: 714, dtype: float64"
      ]
     },
     "execution_count": 35,
     "metadata": {},
     "output_type": "execute_result"
    }
   ],
   "source": [
    "# Casos confirmados na China por dia \n",
    "confirmed_by_country.loc[\"China\"][2:]"
   ]
  },
  {
   "cell_type": "markdown",
   "metadata": {},
   "source": [
    "## 📊 Estudando algumas Visualizações"
   ]
  },
  {
   "cell_type": "code",
   "execution_count": 40,
   "metadata": {
    "colab": {
     "base_uri": "https://localhost:8080/",
     "height": 336
    },
    "colab_type": "code",
    "id": "beiHbO2wjRaR",
    "outputId": "9f022255-dddb-4474-dc3d-5a02cfe7b7f8"
   },
   "outputs": [
    {
     "data": {
      "image/png": "[encoded data removed]",
      "text/plain": [
       "<Figure size 144x360 with 1 Axes>"
      ]
     },
     "metadata": {
      "needs_background": "light"
     },
     "output_type": "display_data"
    }
   ],
   "source": [
    "plt.figure(figsize=(2,5))\n",
    "confirmed_by_country.loc[\"China\"][2:].plot()\n",
    "plt.title(\"Casos confirmados na China\")\n",
    "plt.show()"
   ]
  },
  {
   "cell_type": "markdown",
   "metadata": {
    "tags": []
   },
   "source": [
    "Gráfico extremamente apertado, não estamos passando uma mensagem adequada com esse gráfico\n",
    "***"
   ]
  },
  {
   "cell_type": "code",
   "execution_count": 44,
   "metadata": {
    "colab": {
     "base_uri": "https://localhost:8080/",
     "height": 336
    },
    "colab_type": "code",
    "id": "kYsx3ckgjdRo",
    "outputId": "37181c1d-a36c-45c5-8b33-9b9280cc386d"
   },
   "outputs": [
    {
     "data": {
      "image/png": "[encoded data removed]",
      "text/plain": [
       "<Figure size 720x360 with 1 Axes>"
      ]
     },
     "metadata": {
      "needs_background": "light"
     },
     "output_type": "display_data"
    }
   ],
   "source": [
    "plt.figure(figsize=(10,5))\n",
    "confirmed_by_country.loc[\"China\"][2:].plot()\n",
    "plt.title(\"Casos confirmados na China\")\n",
    "plt.show()"
   ]
  },
  {
   "cell_type": "markdown",
   "metadata": {},
   "source": [
    "Pisso em data visualization é fundamental estarmos atentos aos dois eixos dos gráficos, o gráfico acima está tentando comparar o crescimento do momento inicial ao momento atual\n",
    "***"
   ]
  },
  {
   "cell_type": "code",
   "execution_count": 45,
   "metadata": {
    "colab": {
     "base_uri": "https://localhost:8080/",
     "height": 336
    },
    "colab_type": "code",
    "id": "oUNQcGBsmdto",
    "outputId": "37327d29-b2a9-4412-ce73-d6c88412c6b3"
   },
   "outputs": [
    {
     "data": {
      "image/png": "[encoded data removed]",
      "text/plain": [
       "<Figure size 720x360 with 1 Axes>"
      ]
     },
     "metadata": {
      "needs_background": "light"
     },
     "output_type": "display_data"
    }
   ],
   "source": [
    "# Exemplo ruim de manusear o eixo y\n",
    "plt.figure(figsize=(10,5))\n",
    "confirmed_by_country.loc[\"China\"][2:].plot()\n",
    "plt.title(\"Gráfico errado. Passa uma mensagem errada, com comparações injustas.\")\n",
    "plt.ylim(0, 1386000000)\n",
    "plt.show()"
   ]
  },
  {
   "cell_type": "markdown",
   "metadata": {},
   "source": [
    "Esse gráfico está tentando comparar o momento inicial com 1.386bi (populacao da China em 2017), aqui a mensagem é completamente diferente e pode ser uma mensagem com conotação ruim, até mesmo errada. Se trata de uma doenca grave, mas ao usarmos o eixo y com a populacao geral, fingimos que ela nao é, sendo que na realidade esse grafico não possui informação nenhuma sobre a gravidade da doença.\n",
    "***"
   ]
  },
  {
   "cell_type": "code",
   "execution_count": 55,
   "metadata": {
    "colab": {
     "base_uri": "https://localhost:8080/",
     "height": 353
    },
    "colab_type": "code",
    "id": "enyofh-Gm_fb",
    "outputId": "399780b9-8058-48c3-edd8-ee015e2bf980"
   },
   "outputs": [
    {
     "data": {
      "image/png": "[encoded data removed]",
      "text/plain": [
       "<Figure size 720x360 with 1 Axes>"
      ]
     },
     "metadata": {
      "needs_background": "light"
     },
     "output_type": "display_data"
    }
   ],
   "source": [
    "# Plota o gráficos de casos novos por dia\n",
    "plt.figure(figsize=(10,5))\n",
    "plt.title(\"Casos confirmados na China\")\n",
    "new_cases_china = confirmed_by_country.loc[\"China\"][2:].diff().dropna()\n",
    "new_cases_china.plot()\n",
    "plt.show()"
   ]
  },
  {
   "cell_type": "code",
   "execution_count": 74,
   "metadata": {
    "colab": {
     "base_uri": "https://localhost:8080/",
     "height": 367
    },
    "colab_type": "code",
    "id": "Z51g5cR7pETn",
    "outputId": "46830e09-2ed4-4d0b-cd39-509da967a566"
   },
   "outputs": [
    {
     "data": {
      "image/png": "[encoded data removed]",
      "text/plain": [
       "<Figure size 720x360 with 1 Axes>"
      ]
     },
     "metadata": {
      "needs_background": "light"
     },
     "output_type": "display_data"
    }
   ],
   "source": [
    "# Plota o gráficos de casos por país no dia de 25/12/21 (Gráfico de Linhas)\n",
    "plt.figure(figsize=(10,5))\n",
    "date = \"12/25/21\"\n",
    "confirmed_by_country[date].plot()\n",
    "plt.title(\"Confirmados por país\")\n",
    "plt.show()"
   ]
  },
  {
   "cell_type": "markdown",
   "metadata": {},
   "source": [
    "Essa visualização não faz sentido quando o índice é uma categoria\n",
    "***"
   ]
  },
  {
   "cell_type": "code",
   "execution_count": 60,
   "metadata": {
    "colab": {
     "base_uri": "https://localhost:8080/",
     "height": 319
    },
    "colab_type": "code",
    "id": "xhMANfODq0pF",
    "outputId": "29037561-c759-4222-d710-c2943a747a23"
   },
   "outputs": [
    {
     "data": {
      "image/png": "[encoded data removed]",
      "text/plain": [
       "<Figure size 720x360 with 1 Axes>"
      ]
     },
     "metadata": {},
     "output_type": "display_data"
    }
   ],
   "source": [
    "# Plota o gráficos de casos por país no dia de 25/12/21 (Gráfico de Pizza)\n",
    "plt.figure(figsize=(10,5))\n",
    "confirmed_by_country[date].plot(kind='pie')\n",
    "plt.title(\"Confirmados por país\")\n",
    "plt.show()"
   ]
  },
  {
   "cell_type": "markdown",
   "metadata": {},
   "source": [
    "99.99% das vezes não devemos usar grafico de pizza e torta\n",
    "\n",
    "\"Se o nome do gráfico tem comida no meio, não use\" (Boa Pratica)\n",
    "\n",
    "1. Muitas categorias, inviável\n",
    "2. Pucas categorias, a comparacao é de área!\n",
    "***"
   ]
  },
  {
   "cell_type": "code",
   "execution_count": 64,
   "metadata": {
    "colab": {
     "base_uri": "https://localhost:8080/",
     "height": 447
    },
    "colab_type": "code",
    "id": "4KEqaX9nr5lU",
    "outputId": "5805bdb7-5570-460c-8f13-e2dcdf88e80b"
   },
   "outputs": [
    {
     "data": {
      "image/png": "[encoded data removed]",
      "text/plain": [
       "<Figure size 720x360 with 1 Axes>"
      ]
     },
     "metadata": {
      "needs_background": "light"
     },
     "output_type": "display_data"
    }
   ],
   "source": [
    "# Plota o gráficos de casos por país no dia de 25/12/21 (Gráfico de Barras)\n",
    "plt.figure(figsize=(10,5))\n",
    "confirmed_by_country[date].plot(kind='bar')\n",
    "plt.title(\"Confirmados por país\")\n",
    "plt.show()"
   ]
  },
  {
   "cell_type": "code",
   "execution_count": 65,
   "metadata": {
    "colab": {
     "base_uri": "https://localhost:8080/",
     "height": 447
    },
    "colab_type": "code",
    "id": "fKlZ1QgJsobU",
    "outputId": "ca23821a-bf6b-4007-cb36-a66f750a5e93"
   },
   "outputs": [
    {
     "data": {
      "image/png": "[encoded data removed]",
      "text/plain": [
       "<Figure size 720x360 with 1 Axes>"
      ]
     },
     "metadata": {
      "needs_background": "light"
     },
     "output_type": "display_data"
    }
   ],
   "source": [
    "# Plota o gráficos de casos por país no dia de 25/12/21 (Gráfico de Barras)\n",
    "# Ordenados ascendetemente\n",
    "plt.figure(figsize=(10,5))\n",
    "confirmed_by_country[date].sort_values(ascending=False).plot(kind='bar')\n",
    "plt.title(\"Confirmados por país\")\n",
    "plt.show()"
   ]
  },
  {
   "cell_type": "code",
   "execution_count": 72,
   "metadata": {
    "colab": {
     "base_uri": "https://localhost:8080/",
     "height": 417
    },
    "colab_type": "code",
    "id": "tNUnL83is0HI",
    "outputId": "0931b2f9-c9a0-4e0e-9373-f0499e1dc621"
   },
   "outputs": [
    {
     "data": {
      "image/png": "[encoded data removed]",
      "text/plain": [
       "<Figure size 720x360 with 1 Axes>"
      ]
     },
     "metadata": {
      "needs_background": "light"
     },
     "output_type": "display_data"
    }
   ],
   "source": [
    "# Plota o gráficos de 10 principais países com casos confirmados no dia de 25/12/21 (Gráfico de Barras)\n",
    "plt.figure(figsize=(10,5))\n",
    "confirmed_by_country[date].sort_values(ascending=False)[0:10].plot(kind='bar')\n",
    "plt.title(\"Confirmados por país\")\n",
    "plt.show()"
   ]
  },
  {
   "cell_type": "code",
   "execution_count": 76,
   "metadata": {
    "colab": {
     "base_uri": "https://localhost:8080/",
     "height": 401
    },
    "colab_type": "code",
    "id": "Dgh4czZCtFT3",
    "outputId": "3aee3f0d-2bb5-4d9b-d3b7-4010a505e03a"
   },
   "outputs": [
    {
     "data": {
      "image/png": "[encoded data removed]",
      "text/plain": [
       "<Figure size 720x360 with 1 Axes>"
      ]
     },
     "metadata": {
      "needs_background": "light"
     },
     "output_type": "display_data"
    }
   ],
   "source": [
    "plt.figure(figsize=(10,5))\n",
    "confirmed_by_country[date].sort_values(ascending=False)[1:10].plot(kind='bar')\n",
    "plt.title(\"Confirmados por país\")\n",
    "plt.show()"
   ]
  },
  {
   "cell_type": "markdown",
   "metadata": {},
   "source": [
    "Lembrando que existe um vicio aqui pois paises que não testaram individuos podem sim ter casos ocorrendo mas não confirmados ainda.\n",
    "***"
   ]
  },
  {
   "cell_type": "markdown",
   "metadata": {},
   "source": [
    "## ⬇️ Importando mais Dados"
   ]
  },
  {
   "cell_type": "code",
   "execution_count": 140,
   "metadata": {},
   "outputs": [],
   "source": [
    "deaths = pd.read_csv(\"https://raw.githubusercontent.com/CSSEGISandData/COVID-19/master/csse_covid_19_data/csse_covid_19_time_series/time_series_covid19_deaths_global.csv\")\n",
    "recovered = pd.read_csv(\"https://raw.githubusercontent.com/CSSEGISandData/COVID-19/master/csse_covid_19_data/csse_covid_19_time_series/time_series_covid19_recovered_global.csv\")"
   ]
  },
  {
   "cell_type": "code",
   "execution_count": 141,
   "metadata": {
    "colab": {
     "base_uri": "https://localhost:8080/",
     "height": 394
    },
    "colab_type": "code",
    "id": "FEK-ZH3atS4P",
    "outputId": "4a4d1700-c395-4fd5-acfa-68519994623a"
   },
   "outputs": [
    {
     "data": {
      "text/html": [
       "<div>\n",
       "<style scoped>\n",
       "    .dataframe tbody tr th:only-of-type {\n",
       "        vertical-align: middle;\n",
       "    }\n",
       "\n",
       "    .dataframe tbody tr th {\n",
       "        vertical-align: top;\n",
       "    }\n",
       "\n",
       "    .dataframe thead th {\n",
       "        text-align: right;\n",
       "    }\n",
       "</style>\n",
       "<table border=\"1\" class=\"dataframe\">\n",
       "  <thead>\n",
       "    <tr style=\"text-align: right;\">\n",
       "      <th></th>\n",
       "      <th>Province/State</th>\n",
       "      <th>Country/Region</th>\n",
       "      <th>Lat</th>\n",
       "      <th>Long</th>\n",
       "      <th>1/22/20</th>\n",
       "      <th>1/23/20</th>\n",
       "      <th>1/24/20</th>\n",
       "      <th>1/25/20</th>\n",
       "      <th>1/26/20</th>\n",
       "      <th>1/27/20</th>\n",
       "      <th>...</th>\n",
       "      <th>12/26/21</th>\n",
       "      <th>12/27/21</th>\n",
       "      <th>12/28/21</th>\n",
       "      <th>12/29/21</th>\n",
       "      <th>12/30/21</th>\n",
       "      <th>12/31/21</th>\n",
       "      <th>1/1/22</th>\n",
       "      <th>1/2/22</th>\n",
       "      <th>1/3/22</th>\n",
       "      <th>1/4/22</th>\n",
       "    </tr>\n",
       "  </thead>\n",
       "  <tbody>\n",
       "    <tr>\n",
       "      <th>0</th>\n",
       "      <td>NaN</td>\n",
       "      <td>Afghanistan</td>\n",
       "      <td>33.93911</td>\n",
       "      <td>67.709953</td>\n",
       "      <td>0</td>\n",
       "      <td>0</td>\n",
       "      <td>0</td>\n",
       "      <td>0</td>\n",
       "      <td>0</td>\n",
       "      <td>0</td>\n",
       "      <td>...</td>\n",
       "      <td>7354</td>\n",
       "      <td>7354</td>\n",
       "      <td>7355</td>\n",
       "      <td>7356</td>\n",
       "      <td>7356</td>\n",
       "      <td>7356</td>\n",
       "      <td>7356</td>\n",
       "      <td>7361</td>\n",
       "      <td>7364</td>\n",
       "      <td>7365</td>\n",
       "    </tr>\n",
       "    <tr>\n",
       "      <th>1</th>\n",
       "      <td>NaN</td>\n",
       "      <td>Albania</td>\n",
       "      <td>41.15330</td>\n",
       "      <td>20.168300</td>\n",
       "      <td>0</td>\n",
       "      <td>0</td>\n",
       "      <td>0</td>\n",
       "      <td>0</td>\n",
       "      <td>0</td>\n",
       "      <td>0</td>\n",
       "      <td>...</td>\n",
       "      <td>3194</td>\n",
       "      <td>3194</td>\n",
       "      <td>3207</td>\n",
       "      <td>3212</td>\n",
       "      <td>3212</td>\n",
       "      <td>3217</td>\n",
       "      <td>3217</td>\n",
       "      <td>3220</td>\n",
       "      <td>3220</td>\n",
       "      <td>3224</td>\n",
       "    </tr>\n",
       "    <tr>\n",
       "      <th>2</th>\n",
       "      <td>NaN</td>\n",
       "      <td>Algeria</td>\n",
       "      <td>28.03390</td>\n",
       "      <td>1.659600</td>\n",
       "      <td>0</td>\n",
       "      <td>0</td>\n",
       "      <td>0</td>\n",
       "      <td>0</td>\n",
       "      <td>0</td>\n",
       "      <td>0</td>\n",
       "      <td>...</td>\n",
       "      <td>6238</td>\n",
       "      <td>6246</td>\n",
       "      <td>6254</td>\n",
       "      <td>6263</td>\n",
       "      <td>6271</td>\n",
       "      <td>6276</td>\n",
       "      <td>6284</td>\n",
       "      <td>6291</td>\n",
       "      <td>6298</td>\n",
       "      <td>6303</td>\n",
       "    </tr>\n",
       "    <tr>\n",
       "      <th>3</th>\n",
       "      <td>NaN</td>\n",
       "      <td>Andorra</td>\n",
       "      <td>42.50630</td>\n",
       "      <td>1.521800</td>\n",
       "      <td>0</td>\n",
       "      <td>0</td>\n",
       "      <td>0</td>\n",
       "      <td>0</td>\n",
       "      <td>0</td>\n",
       "      <td>0</td>\n",
       "      <td>...</td>\n",
       "      <td>139</td>\n",
       "      <td>139</td>\n",
       "      <td>140</td>\n",
       "      <td>140</td>\n",
       "      <td>140</td>\n",
       "      <td>140</td>\n",
       "      <td>140</td>\n",
       "      <td>140</td>\n",
       "      <td>140</td>\n",
       "      <td>141</td>\n",
       "    </tr>\n",
       "    <tr>\n",
       "      <th>4</th>\n",
       "      <td>NaN</td>\n",
       "      <td>Angola</td>\n",
       "      <td>-11.20270</td>\n",
       "      <td>17.873900</td>\n",
       "      <td>0</td>\n",
       "      <td>0</td>\n",
       "      <td>0</td>\n",
       "      <td>0</td>\n",
       "      <td>0</td>\n",
       "      <td>0</td>\n",
       "      <td>...</td>\n",
       "      <td>1749</td>\n",
       "      <td>1749</td>\n",
       "      <td>1756</td>\n",
       "      <td>1760</td>\n",
       "      <td>1764</td>\n",
       "      <td>1770</td>\n",
       "      <td>1772</td>\n",
       "      <td>1772</td>\n",
       "      <td>1775</td>\n",
       "      <td>1778</td>\n",
       "    </tr>\n",
       "  </tbody>\n",
       "</table>\n",
       "<p>5 rows × 718 columns</p>\n",
       "</div>"
      ],
      "text/plain": [
       "  Province/State Country/Region       Lat       Long  1/22/20  1/23/20  \\\n",
       "0            NaN    Afghanistan  33.93911  67.709953        0        0   \n",
       "1            NaN        Albania  41.15330  20.168300        0        0   \n",
       "2            NaN        Algeria  28.03390   1.659600        0        0   \n",
       "3            NaN        Andorra  42.50630   1.521800        0        0   \n",
       "4            NaN         Angola -11.20270  17.873900        0        0   \n",
       "\n",
       "   1/24/20  1/25/20  1/26/20  1/27/20  ...  12/26/21  12/27/21  12/28/21  \\\n",
       "0        0        0        0        0  ...      7354      7354      7355   \n",
       "1        0        0        0        0  ...      3194      3194      3207   \n",
       "2        0        0        0        0  ...      6238      6246      6254   \n",
       "3        0        0        0        0  ...       139       139       140   \n",
       "4        0        0        0        0  ...      1749      1749      1756   \n",
       "\n",
       "   12/29/21  12/30/21  12/31/21  1/1/22  1/2/22  1/3/22  1/4/22  \n",
       "0      7356      7356      7356    7356    7361    7364    7365  \n",
       "1      3212      3212      3217    3217    3220    3220    3224  \n",
       "2      6263      6271      6276    6284    6291    6298    6303  \n",
       "3       140       140       140     140     140     140     141  \n",
       "4      1760      1764      1770    1772    1772    1775    1778  \n",
       "\n",
       "[5 rows x 718 columns]"
      ]
     },
     "metadata": {},
     "output_type": "display_data"
    },
    {
     "data": {
      "text/html": [
       "<div>\n",
       "<style scoped>\n",
       "    .dataframe tbody tr th:only-of-type {\n",
       "        vertical-align: middle;\n",
       "    }\n",
       "\n",
       "    .dataframe tbody tr th {\n",
       "        vertical-align: top;\n",
       "    }\n",
       "\n",
       "    .dataframe thead th {\n",
       "        text-align: right;\n",
       "    }\n",
       "</style>\n",
       "<table border=\"1\" class=\"dataframe\">\n",
       "  <thead>\n",
       "    <tr style=\"text-align: right;\">\n",
       "      <th></th>\n",
       "      <th>Province/State</th>\n",
       "      <th>Country/Region</th>\n",
       "      <th>Lat</th>\n",
       "      <th>Long</th>\n",
       "      <th>1/22/20</th>\n",
       "      <th>1/23/20</th>\n",
       "      <th>1/24/20</th>\n",
       "      <th>1/25/20</th>\n",
       "      <th>1/26/20</th>\n",
       "      <th>1/27/20</th>\n",
       "      <th>...</th>\n",
       "      <th>12/26/21</th>\n",
       "      <th>12/27/21</th>\n",
       "      <th>12/28/21</th>\n",
       "      <th>12/29/21</th>\n",
       "      <th>12/30/21</th>\n",
       "      <th>12/31/21</th>\n",
       "      <th>1/1/22</th>\n",
       "      <th>1/2/22</th>\n",
       "      <th>1/3/22</th>\n",
       "      <th>1/4/22</th>\n",
       "    </tr>\n",
       "  </thead>\n",
       "  <tbody>\n",
       "    <tr>\n",
       "      <th>0</th>\n",
       "      <td>NaN</td>\n",
       "      <td>Afghanistan</td>\n",
       "      <td>33.93911</td>\n",
       "      <td>67.709953</td>\n",
       "      <td>0</td>\n",
       "      <td>0</td>\n",
       "      <td>0</td>\n",
       "      <td>0</td>\n",
       "      <td>0</td>\n",
       "      <td>0</td>\n",
       "      <td>...</td>\n",
       "      <td>0</td>\n",
       "      <td>0</td>\n",
       "      <td>0</td>\n",
       "      <td>0</td>\n",
       "      <td>0</td>\n",
       "      <td>0</td>\n",
       "      <td>0</td>\n",
       "      <td>0</td>\n",
       "      <td>0</td>\n",
       "      <td>0</td>\n",
       "    </tr>\n",
       "    <tr>\n",
       "      <th>1</th>\n",
       "      <td>NaN</td>\n",
       "      <td>Albania</td>\n",
       "      <td>41.15330</td>\n",
       "      <td>20.168300</td>\n",
       "      <td>0</td>\n",
       "      <td>0</td>\n",
       "      <td>0</td>\n",
       "      <td>0</td>\n",
       "      <td>0</td>\n",
       "      <td>0</td>\n",
       "      <td>...</td>\n",
       "      <td>0</td>\n",
       "      <td>0</td>\n",
       "      <td>0</td>\n",
       "      <td>0</td>\n",
       "      <td>0</td>\n",
       "      <td>0</td>\n",
       "      <td>0</td>\n",
       "      <td>0</td>\n",
       "      <td>0</td>\n",
       "      <td>0</td>\n",
       "    </tr>\n",
       "    <tr>\n",
       "      <th>2</th>\n",
       "      <td>NaN</td>\n",
       "      <td>Algeria</td>\n",
       "      <td>28.03390</td>\n",
       "      <td>1.659600</td>\n",
       "      <td>0</td>\n",
       "      <td>0</td>\n",
       "      <td>0</td>\n",
       "      <td>0</td>\n",
       "      <td>0</td>\n",
       "      <td>0</td>\n",
       "      <td>...</td>\n",
       "      <td>0</td>\n",
       "      <td>0</td>\n",
       "      <td>0</td>\n",
       "      <td>0</td>\n",
       "      <td>0</td>\n",
       "      <td>0</td>\n",
       "      <td>0</td>\n",
       "      <td>0</td>\n",
       "      <td>0</td>\n",
       "      <td>0</td>\n",
       "    </tr>\n",
       "    <tr>\n",
       "      <th>3</th>\n",
       "      <td>NaN</td>\n",
       "      <td>Andorra</td>\n",
       "      <td>42.50630</td>\n",
       "      <td>1.521800</td>\n",
       "      <td>0</td>\n",
       "      <td>0</td>\n",
       "      <td>0</td>\n",
       "      <td>0</td>\n",
       "      <td>0</td>\n",
       "      <td>0</td>\n",
       "      <td>...</td>\n",
       "      <td>0</td>\n",
       "      <td>0</td>\n",
       "      <td>0</td>\n",
       "      <td>0</td>\n",
       "      <td>0</td>\n",
       "      <td>0</td>\n",
       "      <td>0</td>\n",
       "      <td>0</td>\n",
       "      <td>0</td>\n",
       "      <td>0</td>\n",
       "    </tr>\n",
       "    <tr>\n",
       "      <th>4</th>\n",
       "      <td>NaN</td>\n",
       "      <td>Angola</td>\n",
       "      <td>-11.20270</td>\n",
       "      <td>17.873900</td>\n",
       "      <td>0</td>\n",
       "      <td>0</td>\n",
       "      <td>0</td>\n",
       "      <td>0</td>\n",
       "      <td>0</td>\n",
       "      <td>0</td>\n",
       "      <td>...</td>\n",
       "      <td>0</td>\n",
       "      <td>0</td>\n",
       "      <td>0</td>\n",
       "      <td>0</td>\n",
       "      <td>0</td>\n",
       "      <td>0</td>\n",
       "      <td>0</td>\n",
       "      <td>0</td>\n",
       "      <td>0</td>\n",
       "      <td>0</td>\n",
       "    </tr>\n",
       "  </tbody>\n",
       "</table>\n",
       "<p>5 rows × 718 columns</p>\n",
       "</div>"
      ],
      "text/plain": [
       "  Province/State Country/Region       Lat       Long  1/22/20  1/23/20  \\\n",
       "0            NaN    Afghanistan  33.93911  67.709953        0        0   \n",
       "1            NaN        Albania  41.15330  20.168300        0        0   \n",
       "2            NaN        Algeria  28.03390   1.659600        0        0   \n",
       "3            NaN        Andorra  42.50630   1.521800        0        0   \n",
       "4            NaN         Angola -11.20270  17.873900        0        0   \n",
       "\n",
       "   1/24/20  1/25/20  1/26/20  1/27/20  ...  12/26/21  12/27/21  12/28/21  \\\n",
       "0        0        0        0        0  ...         0         0         0   \n",
       "1        0        0        0        0  ...         0         0         0   \n",
       "2        0        0        0        0  ...         0         0         0   \n",
       "3        0        0        0        0  ...         0         0         0   \n",
       "4        0        0        0        0  ...         0         0         0   \n",
       "\n",
       "   12/29/21  12/30/21  12/31/21  1/1/22  1/2/22  1/3/22  1/4/22  \n",
       "0         0         0         0       0       0       0       0  \n",
       "1         0         0         0       0       0       0       0  \n",
       "2         0         0         0       0       0       0       0  \n",
       "3         0         0         0       0       0       0       0  \n",
       "4         0         0         0       0       0       0       0  \n",
       "\n",
       "[5 rows x 718 columns]"
      ]
     },
     "metadata": {},
     "output_type": "display_data"
    }
   ],
   "source": [
    "display(deaths.head())\n",
    "display(recovered.head())"
   ]
  },
  {
   "cell_type": "code",
   "execution_count": 159,
   "metadata": {
    "colab": {
     "base_uri": "https://localhost:8080/",
     "height": 370
    },
    "colab_type": "code",
    "id": "M0kwTOtOMiuO",
    "outputId": "bd6c181d-b91b-4b09-8dac-efebbb5c12b4"
   },
   "outputs": [
    {
     "data": {
      "text/plain": [
       "Country/Region\n",
       "Afghanistan    158205\n",
       "Albania        212021\n",
       "Algeria        219953\n",
       "Andorra         24802\n",
       "Angola          84666\n",
       "Name: 1/4/22, dtype: int64"
      ]
     },
     "metadata": {},
     "output_type": "display_data"
    },
    {
     "data": {
      "text/plain": [
       "Country/Region\n",
       "Afghanistan    7365\n",
       "Albania        3224\n",
       "Algeria        6303\n",
       "Andorra         141\n",
       "Angola         1778\n",
       "Name: 1/4/22, dtype: int64"
      ]
     },
     "metadata": {},
     "output_type": "display_data"
    },
    {
     "data": {
      "text/plain": [
       "Country/Region\n",
       "Afghanistan    0\n",
       "Albania        0\n",
       "Algeria        0\n",
       "Andorra        0\n",
       "Angola         0\n",
       "Name: 1/4/22, dtype: int64"
      ]
     },
     "metadata": {},
     "output_type": "display_data"
    }
   ],
   "source": [
    "# Função que retorna os dados da última data\n",
    "def latest_by_country(data):\n",
    "  return data.groupby(\"Country/Region\").sum().iloc[:,-1]\n",
    "\n",
    "display(latest_by_country(confirmed).head())\n",
    "display(latest_by_country(deaths).head())\n",
    "display(latest_by_country(recovered).head())"
   ]
  },
  {
   "cell_type": "code",
   "execution_count": 160,
   "metadata": {
    "colab": {
     "base_uri": "https://localhost:8080/",
     "height": 225
    },
    "colab_type": "code",
    "id": "32ROBiGkNGGg",
    "outputId": "210ca26e-7d68-4b61-ecab-e570e6653b7f"
   },
   "outputs": [
    {
     "data": {
      "text/html": [
       "<div>\n",
       "<style scoped>\n",
       "    .dataframe tbody tr th:only-of-type {\n",
       "        vertical-align: middle;\n",
       "    }\n",
       "\n",
       "    .dataframe tbody tr th {\n",
       "        vertical-align: top;\n",
       "    }\n",
       "\n",
       "    .dataframe thead th {\n",
       "        text-align: right;\n",
       "    }\n",
       "</style>\n",
       "<table border=\"1\" class=\"dataframe\">\n",
       "  <thead>\n",
       "    <tr style=\"text-align: right;\">\n",
       "      <th></th>\n",
       "      <th>confirmed</th>\n",
       "      <th>deaths</th>\n",
       "      <th>recovered</th>\n",
       "    </tr>\n",
       "    <tr>\n",
       "      <th>Country/Region</th>\n",
       "      <th></th>\n",
       "      <th></th>\n",
       "      <th></th>\n",
       "    </tr>\n",
       "  </thead>\n",
       "  <tbody>\n",
       "    <tr>\n",
       "      <th>Afghanistan</th>\n",
       "      <td>158205</td>\n",
       "      <td>7365</td>\n",
       "      <td>0</td>\n",
       "    </tr>\n",
       "    <tr>\n",
       "      <th>Albania</th>\n",
       "      <td>212021</td>\n",
       "      <td>3224</td>\n",
       "      <td>0</td>\n",
       "    </tr>\n",
       "    <tr>\n",
       "      <th>Algeria</th>\n",
       "      <td>219953</td>\n",
       "      <td>6303</td>\n",
       "      <td>0</td>\n",
       "    </tr>\n",
       "    <tr>\n",
       "      <th>Andorra</th>\n",
       "      <td>24802</td>\n",
       "      <td>141</td>\n",
       "      <td>0</td>\n",
       "    </tr>\n",
       "    <tr>\n",
       "      <th>Angola</th>\n",
       "      <td>84666</td>\n",
       "      <td>1778</td>\n",
       "      <td>0</td>\n",
       "    </tr>\n",
       "  </tbody>\n",
       "</table>\n",
       "</div>"
      ],
      "text/plain": [
       "                confirmed  deaths  recovered\n",
       "Country/Region                              \n",
       "Afghanistan        158205    7365          0\n",
       "Albania            212021    3224          0\n",
       "Algeria            219953    6303          0\n",
       "Andorra             24802     141          0\n",
       "Angola              84666    1778          0"
      ]
     },
     "execution_count": 160,
     "metadata": {},
     "output_type": "execute_result"
    }
   ],
   "source": [
    "# Concatenar os dados\n",
    "informations = [latest_by_country(confirmed), latest_by_country(deaths), latest_by_country(recovered)]\n",
    "combined = pd.concat(informations, axis=1)\n",
    "combined.columns = [\"confirmed\", \"deaths\", \"recovered\"]\n",
    "combined.head()"
   ]
  },
  {
   "cell_type": "markdown",
   "metadata": {},
   "source": [
    "## 📈 Estudando Taxa de Letalidade"
   ]
  },
  {
   "cell_type": "markdown",
   "metadata": {},
   "source": [
    "A taxa de letalidade é expressa em %, o número de casos letais dentro dos casos que foram letais e não letais.\n",
    "É MUITO dificil de falar de letalidade tentando ser preciso durante uma epidemia, no começo é comum que somente casos graves sejam reportados"
   ]
  },
  {
   "cell_type": "code",
   "execution_count": 161,
   "metadata": {
    "colab": {
     "base_uri": "https://localhost:8080/",
     "height": 50
    },
    "colab_type": "code",
    "id": "BqPEKZzpP8Dq",
    "outputId": "3600fa18-97a7-45f7-eb22-2f229c197398"
   },
   "outputs": [
    {
     "name": "stdout",
     "output_type": "stream",
     "text": [
      "Taxa de Letalidade - mortes/confirmados: 1.8485022756348308\n",
      "Taxa de Letalidade - mortes/mortes+recuperados: 100.0\n"
     ]
    }
   ],
   "source": [
    "# Calcular Taxa de Letalidade\n",
    "sum_up = combined.sum()\n",
    "letality_rate_1 = sum_up[\"deaths\"] / sum_up[\"confirmed\"]\n",
    "letality_rate_2 = sum_up[\"deaths\"] / (sum_up[\"deaths\"] + sum_up[\"recovered\"])\n",
    "print(\"Taxa de Letalidade - mortes/confirmados:\",letality_rate_1 * 100)\n",
    "print(\"Taxa de Letalidade - mortes/mortes+recuperados:\", letality_rate_2 * 100)"
   ]
  },
  {
   "cell_type": "code",
   "execution_count": 180,
   "metadata": {
    "colab": {
     "base_uri": "https://localhost:8080/",
     "height": 50
    },
    "colab_type": "code",
    "id": "fhBgxicja-I2",
    "outputId": "662b504c-b5ca-4eb7-93fe-cd8e5f633a7e"
   },
   "outputs": [
    {
     "name": "stdout",
     "output_type": "stream",
     "text": [
      "2.980939568709458\n",
      "11.050760418724076\n"
     ]
    }
   ],
   "source": [
    "def latest_by_country_at(data, date):\n",
    "  return data.groupby(\"Country/Region\").sum()[date]\n",
    "\n",
    "\n",
    "informations = [latest_by_country_at(confirmed, '2/20/20'), latest_by_country_at(deaths, '2/20/20'), latest_by_country_at(recovered, '2/20/20')]\n",
    "combined_2_20_20 = pd.concat(informations, axis=1)\n",
    "combined_2_20_20.columns = [\"confirmed\", \"deaths\", \"recovered\"]\n",
    "\n",
    "sum_up = combined_2_20_20.loc[\"China\"]\n",
    "letality_rate_1 = sum_up[\"deaths\"] / sum_up[\"confirmed\"]\n",
    "letality_rate_2 = sum_up[\"deaths\"] / (sum_up[\"deaths\"] + sum_up[\"recovered\"])\n",
    "print(letality_rate_1 * 100)\n",
    "print(letality_rate_2 * 100)"
   ]
  },
  {
   "cell_type": "code",
   "execution_count": 163,
   "metadata": {
    "colab": {
     "base_uri": "https://localhost:8080/",
     "height": 84
    },
    "colab_type": "code",
    "id": "btr4elbUUdAM",
    "outputId": "4074ca01-a468-4205-e496-1aa5fda6d355"
   },
   "outputs": [
    {
     "data": {
      "text/plain": [
       "confirmed    75077\n",
       "deaths        2238\n",
       "recovered    18014\n",
       "Name: China, dtype: int64"
      ]
     },
     "metadata": {},
     "output_type": "display_data"
    }
   ],
   "source": [
    "display(sum_up)"
   ]
  },
  {
   "cell_type": "code",
   "execution_count": 164,
   "metadata": {
    "colab": {
     "base_uri": "https://localhost:8080/",
     "height": 101
    },
    "colab_type": "code",
    "id": "Tjiw5LOHu3zl",
    "outputId": "72d313df-0021-4665-8903-96d79cf666b8"
   },
   "outputs": [
    {
     "name": "stdout",
     "output_type": "stream",
     "text": [
      "6.079208996577389\n"
     ]
    },
    {
     "data": {
      "text/plain": [
       "confirmed    36814\n",
       "deaths        2238\n",
       "recovered    18014\n",
       "Name: China, dtype: int64"
      ]
     },
     "metadata": {},
     "output_type": "display_data"
    }
   ],
   "source": [
    "informations = [latest_by_country_at(confirmed, '2/8/20'), latest_by_country_at(deaths, '2/20/20'), latest_by_country_at(recovered, '2/20/20')]\n",
    "combined_12 = pd.concat(informations, axis=1)\n",
    "combined_12.columns = [\"confirmed\", \"deaths\", \"recovered\"]\n",
    "\n",
    "sum_up = combined_12.loc[\"China\"]\n",
    "letality_rate_3 = sum_up[\"deaths\"] / sum_up[\"confirmed\"]\n",
    "print(letality_rate_3 * 100)\n",
    "display(sum_up)"
   ]
  },
  {
   "cell_type": "code",
   "execution_count": 165,
   "metadata": {
    "colab": {
     "base_uri": "https://localhost:8080/",
     "height": 225
    },
    "colab_type": "code",
    "id": "8dGaO49zQIsz",
    "outputId": "41aefe8c-3f2c-49c0-caac-59405fe51694"
   },
   "outputs": [
    {
     "data": {
      "text/html": [
       "<div>\n",
       "<style scoped>\n",
       "    .dataframe tbody tr th:only-of-type {\n",
       "        vertical-align: middle;\n",
       "    }\n",
       "\n",
       "    .dataframe tbody tr th {\n",
       "        vertical-align: top;\n",
       "    }\n",
       "\n",
       "    .dataframe thead th {\n",
       "        text-align: right;\n",
       "    }\n",
       "</style>\n",
       "<table border=\"1\" class=\"dataframe\">\n",
       "  <thead>\n",
       "    <tr style=\"text-align: right;\">\n",
       "      <th></th>\n",
       "      <th>confirmed</th>\n",
       "      <th>deaths</th>\n",
       "      <th>recovered</th>\n",
       "      <th>letality_rate_1</th>\n",
       "      <th>letality_rate_2</th>\n",
       "    </tr>\n",
       "    <tr>\n",
       "      <th>Country/Region</th>\n",
       "      <th></th>\n",
       "      <th></th>\n",
       "      <th></th>\n",
       "      <th></th>\n",
       "      <th></th>\n",
       "    </tr>\n",
       "  </thead>\n",
       "  <tbody>\n",
       "    <tr>\n",
       "      <th>Afghanistan</th>\n",
       "      <td>158205</td>\n",
       "      <td>7365</td>\n",
       "      <td>0</td>\n",
       "      <td>4.655352</td>\n",
       "      <td>100.0</td>\n",
       "    </tr>\n",
       "    <tr>\n",
       "      <th>Albania</th>\n",
       "      <td>212021</td>\n",
       "      <td>3224</td>\n",
       "      <td>0</td>\n",
       "      <td>1.520604</td>\n",
       "      <td>100.0</td>\n",
       "    </tr>\n",
       "    <tr>\n",
       "      <th>Algeria</th>\n",
       "      <td>219953</td>\n",
       "      <td>6303</td>\n",
       "      <td>0</td>\n",
       "      <td>2.865612</td>\n",
       "      <td>100.0</td>\n",
       "    </tr>\n",
       "    <tr>\n",
       "      <th>Andorra</th>\n",
       "      <td>24802</td>\n",
       "      <td>141</td>\n",
       "      <td>0</td>\n",
       "      <td>0.568503</td>\n",
       "      <td>100.0</td>\n",
       "    </tr>\n",
       "    <tr>\n",
       "      <th>Angola</th>\n",
       "      <td>84666</td>\n",
       "      <td>1778</td>\n",
       "      <td>0</td>\n",
       "      <td>2.100017</td>\n",
       "      <td>100.0</td>\n",
       "    </tr>\n",
       "  </tbody>\n",
       "</table>\n",
       "</div>"
      ],
      "text/plain": [
       "                confirmed  deaths  recovered  letality_rate_1  letality_rate_2\n",
       "Country/Region                                                                \n",
       "Afghanistan        158205    7365          0         4.655352            100.0\n",
       "Albania            212021    3224          0         1.520604            100.0\n",
       "Algeria            219953    6303          0         2.865612            100.0\n",
       "Andorra             24802     141          0         0.568503            100.0\n",
       "Angola              84666    1778          0         2.100017            100.0"
      ]
     },
     "execution_count": 165,
     "metadata": {},
     "output_type": "execute_result"
    }
   ],
   "source": [
    "letality_rate_1 = combined[\"deaths\"] / combined[\"confirmed\"] * 100\n",
    "letality_rate_2 = combined[\"deaths\"] / (combined[\"recovered\"] + combined[\"deaths\"]) * 100\n",
    "combined[\"letality_rate_1\"] = letality_rate_1\n",
    "combined[\"letality_rate_2\"] = letality_rate_2\n",
    "combined.head()"
   ]
  },
  {
   "cell_type": "code",
   "execution_count": 166,
   "metadata": {
    "colab": {
     "base_uri": "https://localhost:8080/",
     "height": 373
    },
    "colab_type": "code",
    "id": "sVvk4OBBT8U0",
    "outputId": "c6dc1412-20d6-4124-bac3-e6610159b41c"
   },
   "outputs": [
    {
     "data": {
      "text/html": [
       "<div>\n",
       "<style scoped>\n",
       "    .dataframe tbody tr th:only-of-type {\n",
       "        vertical-align: middle;\n",
       "    }\n",
       "\n",
       "    .dataframe tbody tr th {\n",
       "        vertical-align: top;\n",
       "    }\n",
       "\n",
       "    .dataframe thead th {\n",
       "        text-align: right;\n",
       "    }\n",
       "</style>\n",
       "<table border=\"1\" class=\"dataframe\">\n",
       "  <thead>\n",
       "    <tr style=\"text-align: right;\">\n",
       "      <th></th>\n",
       "      <th>confirmed</th>\n",
       "      <th>deaths</th>\n",
       "      <th>recovered</th>\n",
       "      <th>letality_rate_1</th>\n",
       "      <th>letality_rate_2</th>\n",
       "    </tr>\n",
       "    <tr>\n",
       "      <th>Country/Region</th>\n",
       "      <th></th>\n",
       "      <th></th>\n",
       "      <th></th>\n",
       "      <th></th>\n",
       "      <th></th>\n",
       "    </tr>\n",
       "  </thead>\n",
       "  <tbody>\n",
       "    <tr>\n",
       "      <th>MS Zaandam</th>\n",
       "      <td>9</td>\n",
       "      <td>2</td>\n",
       "      <td>0</td>\n",
       "      <td>22.222222</td>\n",
       "      <td>100.0</td>\n",
       "    </tr>\n",
       "    <tr>\n",
       "      <th>Yemen</th>\n",
       "      <td>10143</td>\n",
       "      <td>1984</td>\n",
       "      <td>0</td>\n",
       "      <td>19.560288</td>\n",
       "      <td>100.0</td>\n",
       "    </tr>\n",
       "    <tr>\n",
       "      <th>Vanuatu</th>\n",
       "      <td>7</td>\n",
       "      <td>1</td>\n",
       "      <td>0</td>\n",
       "      <td>14.285714</td>\n",
       "      <td>100.0</td>\n",
       "    </tr>\n",
       "    <tr>\n",
       "      <th>Peru</th>\n",
       "      <td>2309856</td>\n",
       "      <td>202867</td>\n",
       "      <td>0</td>\n",
       "      <td>8.782669</td>\n",
       "      <td>100.0</td>\n",
       "    </tr>\n",
       "    <tr>\n",
       "      <th>Mexico</th>\n",
       "      <td>4008648</td>\n",
       "      <td>299711</td>\n",
       "      <td>0</td>\n",
       "      <td>7.476611</td>\n",
       "      <td>100.0</td>\n",
       "    </tr>\n",
       "    <tr>\n",
       "      <th>Sudan</th>\n",
       "      <td>47272</td>\n",
       "      <td>3340</td>\n",
       "      <td>0</td>\n",
       "      <td>7.065493</td>\n",
       "      <td>100.0</td>\n",
       "    </tr>\n",
       "    <tr>\n",
       "      <th>Ecuador</th>\n",
       "      <td>553201</td>\n",
       "      <td>33686</td>\n",
       "      <td>0</td>\n",
       "      <td>6.089288</td>\n",
       "      <td>100.0</td>\n",
       "    </tr>\n",
       "    <tr>\n",
       "      <th>Syria</th>\n",
       "      <td>50390</td>\n",
       "      <td>2912</td>\n",
       "      <td>0</td>\n",
       "      <td>5.778924</td>\n",
       "      <td>100.0</td>\n",
       "    </tr>\n",
       "    <tr>\n",
       "      <th>Somalia</th>\n",
       "      <td>23532</td>\n",
       "      <td>1333</td>\n",
       "      <td>0</td>\n",
       "      <td>5.664627</td>\n",
       "      <td>100.0</td>\n",
       "    </tr>\n",
       "    <tr>\n",
       "      <th>Egypt</th>\n",
       "      <td>388651</td>\n",
       "      <td>21836</td>\n",
       "      <td>0</td>\n",
       "      <td>5.618408</td>\n",
       "      <td>100.0</td>\n",
       "    </tr>\n",
       "  </tbody>\n",
       "</table>\n",
       "</div>"
      ],
      "text/plain": [
       "                confirmed  deaths  recovered  letality_rate_1  letality_rate_2\n",
       "Country/Region                                                                \n",
       "MS Zaandam              9       2          0        22.222222            100.0\n",
       "Yemen               10143    1984          0        19.560288            100.0\n",
       "Vanuatu                 7       1          0        14.285714            100.0\n",
       "Peru              2309856  202867          0         8.782669            100.0\n",
       "Mexico            4008648  299711          0         7.476611            100.0\n",
       "Sudan               47272    3340          0         7.065493            100.0\n",
       "Ecuador            553201   33686          0         6.089288            100.0\n",
       "Syria               50390    2912          0         5.778924            100.0\n",
       "Somalia             23532    1333          0         5.664627            100.0\n",
       "Egypt              388651   21836          0         5.618408            100.0"
      ]
     },
     "execution_count": 166,
     "metadata": {},
     "output_type": "execute_result"
    }
   ],
   "source": [
    "combined.sort_values(\"letality_rate_1\", ascending=False).head(10)"
   ]
  },
  {
   "cell_type": "markdown",
   "metadata": {},
   "source": [
    "## 📈 Visualizando Taxa de Letalidade"
   ]
  },
  {
   "cell_type": "code",
   "execution_count": 167,
   "metadata": {
    "colab": {
     "base_uri": "https://localhost:8080/",
     "height": 296
    },
    "colab_type": "code",
    "id": "g9Xq-twUV946",
    "outputId": "eaa22279-9301-48c4-ddfd-e8738a6e24c2"
   },
   "outputs": [
    {
     "data": {
      "text/plain": [
       "<AxesSubplot:xlabel='Country/Region'>"
      ]
     },
     "execution_count": 167,
     "metadata": {},
     "output_type": "execute_result"
    },
    {
     "data": {
      "image/png": "[encoded data removed]",
      "text/plain": [
       "<Figure size 432x288 with 1 Axes>"
      ]
     },
     "metadata": {
      "needs_background": "light"
     },
     "output_type": "display_data"
    }
   ],
   "source": [
    "# Visualização horrenda\n",
    "combined[[\"confirmed\", \"letality_rate_1\"]].plot()"
   ]
  },
  {
   "cell_type": "code",
   "execution_count": 168,
   "metadata": {
    "colab": {
     "base_uri": "https://localhost:8080/",
     "height": 300
    },
    "colab_type": "code",
    "id": "ZctRDUktW-Xu",
    "outputId": "76053af2-3705-4c3e-ab23-c754b6558cb5"
   },
   "outputs": [
    {
     "data": {
      "text/plain": [
       "<AxesSubplot:xlabel='confirmed', ylabel='letality_rate_1'>"
      ]
     },
     "execution_count": 168,
     "metadata": {},
     "output_type": "execute_result"
    },
    {
     "data": {
      "image/png": "[encoded data removed]",
      "text/plain": [
       "<Figure size 432x288 with 1 Axes>"
      ]
     },
     "metadata": {
      "needs_background": "light"
     },
     "output_type": "display_data"
    }
   ],
   "source": [
    "# Visualização com pontos\n",
    "sns.scatterplot(data = combined, x=\"confirmed\", y=\"letality_rate_1\")"
   ]
  },
  {
   "cell_type": "code",
   "execution_count": 169,
   "metadata": {
    "colab": {
     "base_uri": "https://localhost:8080/",
     "height": 296
    },
    "colab_type": "code",
    "id": "hj75tt1YXH0x",
    "outputId": "2eaefab8-8d6a-4fd9-9ee9-ed17a8816c79"
   },
   "outputs": [
    {
     "data": {
      "text/plain": [
       "<AxesSubplot:xlabel='confirmed', ylabel='letality_rate_1'>"
      ]
     },
     "execution_count": 169,
     "metadata": {},
     "output_type": "execute_result"
    },
    {
     "data": {
      "image/png": "[encoded data removed]",
      "text/plain": [
       "<Figure size 432x288 with 1 Axes>"
      ]
     },
     "metadata": {
      "needs_background": "light"
     },
     "output_type": "display_data"
    }
   ],
   "source": [
    "# Taxa de Letalidade por país\n",
    "# confirmed > 40 and confirmed < 50000\n",
    "sns.scatterplot(data = combined.query(\"confirmed > 40 and confirmed < 50000\"), x=\"confirmed\", y=\"letality_rate_1\")"
   ]
  },
  {
   "cell_type": "code",
   "execution_count": 170,
   "metadata": {
    "colab": {
     "base_uri": "https://localhost:8080/",
     "height": 296
    },
    "colab_type": "code",
    "id": "urYCHsI5XY-h",
    "outputId": "0abb1467-ff20-46e3-de9a-ccde73d30307"
   },
   "outputs": [
    {
     "data": {
      "text/plain": [
       "<AxesSubplot:xlabel='confirmed', ylabel='letality_rate_1'>"
      ]
     },
     "execution_count": 170,
     "metadata": {},
     "output_type": "execute_result"
    },
    {
     "data": {
      "image/png": "[encoded data removed]",
      "text/plain": [
       "<Figure size 432x288 with 1 Axes>"
      ]
     },
     "metadata": {
      "needs_background": "light"
     },
     "output_type": "display_data"
    }
   ],
   "source": [
    "# Taxa de Letalidade por país\n",
    "# confirmed > 40\n",
    "sns.scatterplot(data = combined.query(\"confirmed > 40\"), x=\"confirmed\", y=\"letality_rate_1\")"
   ]
  },
  {
   "cell_type": "code",
   "execution_count": 171,
   "metadata": {
    "colab": {
     "base_uri": "https://localhost:8080/",
     "height": 297
    },
    "colab_type": "code",
    "id": "IVTRP8pIX8sZ",
    "outputId": "ce855a0e-4a96-4938-e42d-25e1907830ff"
   },
   "outputs": [
    {
     "data": {
      "text/plain": [
       "<AxesSubplot:xlabel='letality_rate_1'>"
      ]
     },
     "execution_count": 171,
     "metadata": {},
     "output_type": "execute_result"
    },
    {
     "data": {
      "image/png": "[encoded data removed]",
      "text/plain": [
       "<Figure size 432x288 with 1 Axes>"
      ]
     },
     "metadata": {
      "needs_background": "light"
     },
     "output_type": "display_data"
    }
   ],
   "source": [
    "sns.distplot(combined.query(\"confirmed > 40\")[\"letality_rate_1\"], kde=False)"
   ]
  },
  {
   "cell_type": "code",
   "execution_count": 174,
   "metadata": {
    "colab": {
     "base_uri": "https://localhost:8080/",
     "height": 373
    },
    "colab_type": "code",
    "id": "Z6Zt0jnAY7QX",
    "outputId": "81d5ce19-0745-486b-d6bd-d30d4b3a17c3"
   },
   "outputs": [
    {
     "data": {
      "text/html": [
       "<div>\n",
       "<style scoped>\n",
       "    .dataframe tbody tr th:only-of-type {\n",
       "        vertical-align: middle;\n",
       "    }\n",
       "\n",
       "    .dataframe tbody tr th {\n",
       "        vertical-align: top;\n",
       "    }\n",
       "\n",
       "    .dataframe thead th {\n",
       "        text-align: right;\n",
       "    }\n",
       "</style>\n",
       "<table border=\"1\" class=\"dataframe\">\n",
       "  <thead>\n",
       "    <tr style=\"text-align: right;\">\n",
       "      <th></th>\n",
       "      <th>confirmed</th>\n",
       "      <th>deaths</th>\n",
       "      <th>recovered</th>\n",
       "      <th>letality_rate_1</th>\n",
       "      <th>letality_rate_2</th>\n",
       "    </tr>\n",
       "    <tr>\n",
       "      <th>Country/Region</th>\n",
       "      <th></th>\n",
       "      <th></th>\n",
       "      <th></th>\n",
       "      <th></th>\n",
       "      <th></th>\n",
       "    </tr>\n",
       "  </thead>\n",
       "  <tbody>\n",
       "    <tr>\n",
       "      <th>Yemen</th>\n",
       "      <td>10143</td>\n",
       "      <td>1984</td>\n",
       "      <td>0</td>\n",
       "      <td>19.560288</td>\n",
       "      <td>100.0</td>\n",
       "    </tr>\n",
       "    <tr>\n",
       "      <th>Peru</th>\n",
       "      <td>2309856</td>\n",
       "      <td>202867</td>\n",
       "      <td>0</td>\n",
       "      <td>8.782669</td>\n",
       "      <td>100.0</td>\n",
       "    </tr>\n",
       "    <tr>\n",
       "      <th>Mexico</th>\n",
       "      <td>4008648</td>\n",
       "      <td>299711</td>\n",
       "      <td>0</td>\n",
       "      <td>7.476611</td>\n",
       "      <td>100.0</td>\n",
       "    </tr>\n",
       "    <tr>\n",
       "      <th>Sudan</th>\n",
       "      <td>47272</td>\n",
       "      <td>3340</td>\n",
       "      <td>0</td>\n",
       "      <td>7.065493</td>\n",
       "      <td>100.0</td>\n",
       "    </tr>\n",
       "    <tr>\n",
       "      <th>Ecuador</th>\n",
       "      <td>553201</td>\n",
       "      <td>33686</td>\n",
       "      <td>0</td>\n",
       "      <td>6.089288</td>\n",
       "      <td>100.0</td>\n",
       "    </tr>\n",
       "    <tr>\n",
       "      <th>Syria</th>\n",
       "      <td>50390</td>\n",
       "      <td>2912</td>\n",
       "      <td>0</td>\n",
       "      <td>5.778924</td>\n",
       "      <td>100.0</td>\n",
       "    </tr>\n",
       "    <tr>\n",
       "      <th>Somalia</th>\n",
       "      <td>23532</td>\n",
       "      <td>1333</td>\n",
       "      <td>0</td>\n",
       "      <td>5.664627</td>\n",
       "      <td>100.0</td>\n",
       "    </tr>\n",
       "    <tr>\n",
       "      <th>Egypt</th>\n",
       "      <td>388651</td>\n",
       "      <td>21836</td>\n",
       "      <td>0</td>\n",
       "      <td>5.618408</td>\n",
       "      <td>100.0</td>\n",
       "    </tr>\n",
       "    <tr>\n",
       "      <th>Taiwan*</th>\n",
       "      <td>17129</td>\n",
       "      <td>850</td>\n",
       "      <td>0</td>\n",
       "      <td>4.962345</td>\n",
       "      <td>100.0</td>\n",
       "    </tr>\n",
       "    <tr>\n",
       "      <th>Afghanistan</th>\n",
       "      <td>158205</td>\n",
       "      <td>7365</td>\n",
       "      <td>0</td>\n",
       "      <td>4.655352</td>\n",
       "      <td>100.0</td>\n",
       "    </tr>\n",
       "  </tbody>\n",
       "</table>\n",
       "</div>"
      ],
      "text/plain": [
       "                confirmed  deaths  recovered  letality_rate_1  letality_rate_2\n",
       "Country/Region                                                                \n",
       "Yemen               10143    1984          0        19.560288            100.0\n",
       "Peru              2309856  202867          0         8.782669            100.0\n",
       "Mexico            4008648  299711          0         7.476611            100.0\n",
       "Sudan               47272    3340          0         7.065493            100.0\n",
       "Ecuador            553201   33686          0         6.089288            100.0\n",
       "Syria               50390    2912          0         5.778924            100.0\n",
       "Somalia             23532    1333          0         5.664627            100.0\n",
       "Egypt              388651   21836          0         5.618408            100.0\n",
       "Taiwan*             17129     850          0         4.962345            100.0\n",
       "Afghanistan        158205    7365          0         4.655352            100.0"
      ]
     },
     "execution_count": 174,
     "metadata": {},
     "output_type": "execute_result"
    }
   ],
   "source": [
    "combined.sort_values(\"letality_rate_1\", ascending=False).query(\"confirmed > 40\").head(10)"
   ]
  },
  {
   "cell_type": "code",
   "execution_count": 175,
   "metadata": {
    "colab": {
     "base_uri": "https://localhost:8080/",
     "height": 195
    },
    "colab_type": "code",
    "id": "rVLYH54AZPb0",
    "outputId": "0a8c34f5-f9b8-475e-d178-d38e75a6d289"
   },
   "outputs": [
    {
     "data": {
      "text/html": [
       "<div>\n",
       "<style scoped>\n",
       "    .dataframe tbody tr th:only-of-type {\n",
       "        vertical-align: middle;\n",
       "    }\n",
       "\n",
       "    .dataframe tbody tr th {\n",
       "        vertical-align: top;\n",
       "    }\n",
       "\n",
       "    .dataframe thead th {\n",
       "        text-align: right;\n",
       "    }\n",
       "</style>\n",
       "<table border=\"1\" class=\"dataframe\">\n",
       "  <thead>\n",
       "    <tr style=\"text-align: right;\">\n",
       "      <th></th>\n",
       "      <th>confirmed</th>\n",
       "      <th>deaths</th>\n",
       "      <th>recovered</th>\n",
       "      <th>letality_rate_1</th>\n",
       "      <th>letality_rate_2</th>\n",
       "    </tr>\n",
       "    <tr>\n",
       "      <th>Country/Region</th>\n",
       "      <th></th>\n",
       "      <th></th>\n",
       "      <th></th>\n",
       "      <th></th>\n",
       "      <th></th>\n",
       "    </tr>\n",
       "  </thead>\n",
       "  <tbody>\n",
       "  </tbody>\n",
       "</table>\n",
       "</div>"
      ],
      "text/plain": [
       "Empty DataFrame\n",
       "Columns: [confirmed, deaths, recovered, letality_rate_1, letality_rate_2]\n",
       "Index: []"
      ]
     },
     "execution_count": 175,
     "metadata": {},
     "output_type": "execute_result"
    }
   ],
   "source": [
    "combined.sort_values(\"letality_rate_2\", ascending=False).query(\"recovered > 40\").head(10)"
   ]
  }
 ],
 "metadata": {
  "colab": {
   "collapsed_sections": [],
   "name": "Curso Data Science e Saúde",
   "provenance": []
  },
  "kernelspec": {
   "display_name": "Python 3 (ipykernel)",
   "language": "python",
   "name": "python3"
  },
  "language_info": {
   "codemirror_mode": {
    "name": "ipython",
    "version": 3
   },
   "file_extension": ".py",
   "mimetype": "text/x-python",
   "name": "python",
   "nbconvert_exporter": "python",
   "pygments_lexer": "ipython3",
   "version": "3.9.6"
  }
 },
 "nbformat": 4,
 "nbformat_minor": 4
}
